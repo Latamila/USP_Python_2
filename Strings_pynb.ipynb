{
  "nbformat": 4,
  "nbformat_minor": 0,
  "metadata": {
    "colab": {
      "provenance": [],
      "authorship_tag": "ABX9TyPDKsnPzeLY/PViJjgya1pR",
      "include_colab_link": true
    },
    "kernelspec": {
      "name": "python3",
      "display_name": "Python 3"
    },
    "language_info": {
      "name": "python"
    }
  },
  "cells": [
    {
      "cell_type": "markdown",
      "metadata": {
        "id": "view-in-github",
        "colab_type": "text"
      },
      "source": [
        "<a href=\"https://colab.research.google.com/github/Latamila/USP_Python_2/blob/main/Strings_pynb.ipynb\" target=\"_parent\"><img src=\"https://colab.research.google.com/assets/colab-badge.svg\" alt=\"Open In Colab\"/></a>"
      ]
    },
    {
      "cell_type": "code",
      "execution_count": null,
      "metadata": {
        "colab": {
          "base_uri": "https://localhost:8080/"
        },
        "id": "Ha9U6dr6eNdg",
        "outputId": "53dd5e62-7f9d-46d2-e2aa-de9eade9ba44"
      },
      "outputs": [
        {
          "output_type": "stream",
          "name": "stdout",
          "text": [
            "A frase:  Esse string usa \"apóstrofes\" como demarcador. \n",
            "Tem comprimento:  46\n"
          ]
        }
      ],
      "source": [
        "def main():\n",
        "    frase = \"\"   # string vazio\n",
        "    frase = frase + \"Esse string usa \"\n",
        "    meio  = '\"apóstrofes\" '\n",
        "    fim   = \"como demarcador. \"\n",
        "    frase = frase + meio + fim\n",
        "    print(\"A frase: \", frase)\n",
        "    print(\"Tem comprimento: \", len(frase))\n",
        "\n",
        "main()"
      ]
    },
    {
      "cell_type": "code",
      "source": [
        "def main():\n",
        "    frase = \"Eu posso ajudar respondendo perguntas no fórum!\"\n",
        "    sorteio = [5, -4, 3, -8, 11]  # não foi bem um sorteio :)\n",
        "    acertos = 0\n",
        "\n",
        "    for i in sorteio:\n",
        "        resposta = input(\"Qual o caractere de índice %d? \"%(i))\n",
        "        if frase[i] == resposta:\n",
        "            print(\"Parabéns, você acertou!\")\n",
        "        else:\n",
        "            print(\"Você errou. O caractere de índice %d é: %s\"%(i, frase[i]))\n",
        "    print(\"Você acertou %d de % perguntas.\"%(acertos, len(sorteio)))\n",
        "\n",
        "main()"
      ],
      "metadata": {
        "id": "wHIgKHeuebax"
      },
      "execution_count": null,
      "outputs": []
    },
    {
      "cell_type": "code",
      "source": [
        "\n",
        "def main():\n",
        "    ini, fim = 3, 7\n",
        "    texto = \"Eu posso ajudar respondendo perguntas no fórum!\"\n",
        "    fatia = texto[ ini : fim ]\n",
        "    print(\"Seja o texto:\\n\", texto)\n",
        "    resposta = input(\"Digite o string que corresponde à fatia texto[%d:%d] = \"%(ini,fim))\n",
        "    if resposta == fatia:\n",
        "        print(\"Muito bem, você acertou!!\")\n",
        "    else:\n",
        "        print(\"Você escreveu        : \", resposta)\n",
        "        print(\"mas o valor correto é: \", fatia)\n",
        "\n",
        "main()"
      ],
      "metadata": {
        "colab": {
          "base_uri": "https://localhost:8080/"
        },
        "id": "taE5RlSkhzjF",
        "outputId": "5acfcf84-72b4-43a2-cdea-643fb58efe73"
      },
      "execution_count": null,
      "outputs": [
        {
          "output_type": "stream",
          "name": "stdout",
          "text": [
            "Seja o texto:\n",
            " Eu posso ajudar respondendo perguntas no fórum!\n",
            "Digite o string que corresponde à fatia texto[3:7] = poss\n",
            "Muito bem, você acertou!!\n"
          ]
        }
      ]
    },
    {
      "cell_type": "code",
      "source": [
        "\n",
        "def main():\n",
        "    ini, fim = -15,-10\n",
        "    texto = \"Eu posso ajudar respondendo perguntas no fórum!\"\n",
        "    fatia = texto[ ini : fim ]\n",
        "    print(\"Seja o texto:\\n\", texto)\n",
        "    resposta = input(\"Digite o string que corresponde à fatia texto[%d:%d] = \"%(ini,fim))\n",
        "    if resposta == fatia:\n",
        "        print(\"Muito bem, você acertou!!\")\n",
        "    else:\n",
        "        print(\"Você escreveu        : \", resposta)\n",
        "        print(\"mas o valor correto é: \", fatia)\n",
        "\n",
        "main()"
      ],
      "metadata": {
        "colab": {
          "base_uri": "https://localhost:8080/"
        },
        "id": "CRR1iY1jicAl",
        "outputId": "6ad6fbdd-76a3-4121-a7e9-9a8293363bea"
      },
      "execution_count": null,
      "outputs": [
        {
          "output_type": "stream",
          "name": "stdout",
          "text": [
            "Seja o texto:\n",
            " Eu posso ajudar respondendo perguntas no fórum!\n",
            "Digite o string que corresponde à fatia texto[-15:-10] = untas\n",
            "Muito bem, você acertou!!\n"
          ]
        }
      ]
    },
    {
      "cell_type": "markdown",
      "source": [
        "Índices negativos não são inválidos!\n",
        "\n",
        "Observe que o Python usa índices negativos para percorrer a sequência da direita para a esquerda (fim para o começo) e, portanto, índices negativos não são inválidos. Um índice é inválido apenas quando ele cai fora da sequência, que pode ser um número positivo ou negativo maior que o tamnanho da sequência."
      ],
      "metadata": {
        "id": "3C5W1ppopQ9W"
      }
    },
    {
      "cell_type": "code",
      "source": [
        "\n",
        "def main():\n",
        "    ini, fim, passo = 3, 13, 2\n",
        "    texto = \"Eu posso ajudar respondendo perguntas no fórum!\"\n",
        "    fatia = texto[ ini : fim : passo ]\n",
        "    resposta = input(\"Digite o string que corresponde à fatia texto[%d:%d:%d] = \"%(ini,fim,passo))\n",
        "    if resposta == fatia:\n",
        "        print(\"Muito bem, você acertou!!\")\n",
        "    else:\n",
        "        print(\"Você escreveu        : \", resposta)\n",
        "        print(\"mas o valor correto é: \", fatia)\n",
        "\n",
        "main()"
      ],
      "metadata": {
        "colab": {
          "base_uri": "https://localhost:8080/"
        },
        "id": "C5eq1aIkppn8",
        "outputId": "65582c31-d75b-459c-96e2-b4434422e745"
      },
      "execution_count": null,
      "outputs": [
        {
          "output_type": "stream",
          "name": "stdout",
          "text": [
            "Digite o string que corresponde à fatia texto[3:13:2] = psoau\n",
            "Muito bem, você acertou!!\n"
          ]
        }
      ]
    },
    {
      "cell_type": "code",
      "source": [
        "\n",
        "def main():\n",
        "    try:\n",
        "        texto = \"Esse é um 'string'\"\n",
        "        print(texto)\n",
        "        texto[2] = 'S'\n",
        "    except:\n",
        "        print('String é imutável')\n",
        "    print(texto)\n",
        "\n",
        "main()"
      ],
      "metadata": {
        "colab": {
          "base_uri": "https://localhost:8080/"
        },
        "id": "ECtrMivJqLtD",
        "outputId": "e088577b-9e9d-4c31-acd6-925956a1a96a"
      },
      "execution_count": null,
      "outputs": [
        {
          "output_type": "stream",
          "name": "stdout",
          "text": [
            "Esse é um 'string'\n",
            "String é imutável\n",
            "Esse é um 'string'\n"
          ]
        }
      ]
    },
    {
      "cell_type": "code",
      "source": [
        "\n",
        "def main():\n",
        "    texto = \"Esse é um 'string'\"\n",
        "    print(texto)\n",
        "    novo_texto = 'Mais' + texto[6:]\n",
        "    print(novo_texto)\n",
        "\n",
        "main()"
      ],
      "metadata": {
        "colab": {
          "base_uri": "https://localhost:8080/"
        },
        "id": "YAt6z2tzqvxC",
        "outputId": "8328e90d-62f8-4cd4-becb-8fb62ae78f33"
      },
      "execution_count": null,
      "outputs": [
        {
          "output_type": "stream",
          "name": "stdout",
          "text": [
            "Esse é um 'string'\n",
            "Mais um 'string'\n"
          ]
        }
      ]
    },
    {
      "cell_type": "code",
      "source": [
        "print(\"Tabela ASCII de 32 a 127: \")\n",
        "for i in range(32, 128, 3):\n",
        "    print(\"ASCII[ %3d ] = '%s'  |  ASCII[ %3d ] = '%s'  |  ASCII[ %3d ] = '%s'\"%\n",
        "    (i, chr(i), i+1,\n",
        " chr(i+1), i+2, chr(i+2)))"
      ],
      "metadata": {
        "colab": {
          "base_uri": "https://localhost:8080/"
        },
        "id": "Zc3PhOXirE78",
        "outputId": "cbe1a0ec-4921-4754-fe15-f9390976742d"
      },
      "execution_count": null,
      "outputs": [
        {
          "output_type": "stream",
          "name": "stdout",
          "text": [
            "Tabela ASCII de 32 a 127: \n",
            "ASCII[  32 ] = ' '  |  ASCII[  33 ] = '!'  |  ASCII[  34 ] = '\"'\n",
            "ASCII[  35 ] = '#'  |  ASCII[  36 ] = '$'  |  ASCII[  37 ] = '%'\n",
            "ASCII[  38 ] = '&'  |  ASCII[  39 ] = '''  |  ASCII[  40 ] = '('\n",
            "ASCII[  41 ] = ')'  |  ASCII[  42 ] = '*'  |  ASCII[  43 ] = '+'\n",
            "ASCII[  44 ] = ','  |  ASCII[  45 ] = '-'  |  ASCII[  46 ] = '.'\n",
            "ASCII[  47 ] = '/'  |  ASCII[  48 ] = '0'  |  ASCII[  49 ] = '1'\n",
            "ASCII[  50 ] = '2'  |  ASCII[  51 ] = '3'  |  ASCII[  52 ] = '4'\n",
            "ASCII[  53 ] = '5'  |  ASCII[  54 ] = '6'  |  ASCII[  55 ] = '7'\n",
            "ASCII[  56 ] = '8'  |  ASCII[  57 ] = '9'  |  ASCII[  58 ] = ':'\n",
            "ASCII[  59 ] = ';'  |  ASCII[  60 ] = '<'  |  ASCII[  61 ] = '='\n",
            "ASCII[  62 ] = '>'  |  ASCII[  63 ] = '?'  |  ASCII[  64 ] = '@'\n",
            "ASCII[  65 ] = 'A'  |  ASCII[  66 ] = 'B'  |  ASCII[  67 ] = 'C'\n",
            "ASCII[  68 ] = 'D'  |  ASCII[  69 ] = 'E'  |  ASCII[  70 ] = 'F'\n",
            "ASCII[  71 ] = 'G'  |  ASCII[  72 ] = 'H'  |  ASCII[  73 ] = 'I'\n",
            "ASCII[  74 ] = 'J'  |  ASCII[  75 ] = 'K'  |  ASCII[  76 ] = 'L'\n",
            "ASCII[  77 ] = 'M'  |  ASCII[  78 ] = 'N'  |  ASCII[  79 ] = 'O'\n",
            "ASCII[  80 ] = 'P'  |  ASCII[  81 ] = 'Q'  |  ASCII[  82 ] = 'R'\n",
            "ASCII[  83 ] = 'S'  |  ASCII[  84 ] = 'T'  |  ASCII[  85 ] = 'U'\n",
            "ASCII[  86 ] = 'V'  |  ASCII[  87 ] = 'W'  |  ASCII[  88 ] = 'X'\n",
            "ASCII[  89 ] = 'Y'  |  ASCII[  90 ] = 'Z'  |  ASCII[  91 ] = '['\n",
            "ASCII[  92 ] = '\\'  |  ASCII[  93 ] = ']'  |  ASCII[  94 ] = '^'\n",
            "ASCII[  95 ] = '_'  |  ASCII[  96 ] = '`'  |  ASCII[  97 ] = 'a'\n",
            "ASCII[  98 ] = 'b'  |  ASCII[  99 ] = 'c'  |  ASCII[ 100 ] = 'd'\n",
            "ASCII[ 101 ] = 'e'  |  ASCII[ 102 ] = 'f'  |  ASCII[ 103 ] = 'g'\n",
            "ASCII[ 104 ] = 'h'  |  ASCII[ 105 ] = 'i'  |  ASCII[ 106 ] = 'j'\n",
            "ASCII[ 107 ] = 'k'  |  ASCII[ 108 ] = 'l'  |  ASCII[ 109 ] = 'm'\n",
            "ASCII[ 110 ] = 'n'  |  ASCII[ 111 ] = 'o'  |  ASCII[ 112 ] = 'p'\n",
            "ASCII[ 113 ] = 'q'  |  ASCII[ 114 ] = 'r'  |  ASCII[ 115 ] = 's'\n",
            "ASCII[ 116 ] = 't'  |  ASCII[ 117 ] = 'u'  |  ASCII[ 118 ] = 'v'\n",
            "ASCII[ 119 ] = 'w'  |  ASCII[ 120 ] = 'x'  |  ASCII[ 121 ] = 'y'\n",
            "ASCII[ 122 ] = 'z'  |  ASCII[ 123 ] = '{'  |  ASCII[ 124 ] = '|'\n",
            "ASCII[ 125 ] = '}'  |  ASCII[ 126 ] = '~'  |  ASCII[ 127 ] = ''\n"
          ]
        }
      ]
    },
    {
      "cell_type": "markdown",
      "source": [
        "Esse programa usa a função chr que converte um índice da tabela ASCII em seu caractere correspondente. Observe que a ordem dos caracteres na tabela não é arbitrária. Por exemplo, os caracteres de a a z (tanto minúsculos quanto maiúsculos) estão agrupados sequencialmente, respeitando a ordem alfabética. Observe no entanto que não há caracteres acentuados, pois estes não fazem parte da língua inglesa.\n",
        "\n",
        "O Unicode é um conjunto de caracteres que inclui os símbolos de todas as línguas humanas, desde os milhares de caracteres de línguas asiáticas como o chinês, até os caracteres de línguas mortas como os hieróglifos usados pelos egípicios. Para representar os caracteres do Unicode, foram desenvolvidos diversas formas de codificação. Uma delas é a UTF-32 (U de Universal Character Set e o TF de Transformation Format - usando 32 bits). Essa forma utiliza sempre 32 bits (ou 4 bytes) para codificar um caractere (ou, mais exatamente, para codificar o índice do caractere na tabela Unicode).\n",
        "\n",
        "O UTF-32 não é muito utilizado hoje pois, apesar de ser simples de decodificar, seus arquivos tornam-se muito grandes. O UTF-16 exige ao menos 2 bytes (16 bits) para codificar cada caractere, criando arquivos menores em geral. Esse padrão é utilizado na linguagem Java e em sistemas operacionais como o Microsoft Windows e o Mac OS X. Já o padrão mais utilizado para codificar páginas na Internet atualmente é o UTF-8, que usa pelo menos 8 bits para representar cada caractere."
      ],
      "metadata": {
        "id": "nDPpAm6rsDdg"
      }
    },
    {
      "cell_type": "code",
      "source": [
        "nome = \"poesia.txt\"    # poderia ser um input(\"Digite o nome do arquivo: \")\n",
        "\n",
        "with open(nome, 'w', encoding='utf-8') as arq:\n",
        "    # CORPO DO WITH\n",
        "    arq.write(\"    O poeta é um fingidor.      \\n\")\n",
        "    arq.write(\"    Finge tão completamente     \\n\")\n",
        "    arq.write(\"    Que chega a fingir que é dor\\n\")\n",
        "    arq.write(\"    A dor que deveras sente.    \\n\")\n",
        "    arq.write(\"                Fernando Pessoa.\\n\")"
      ],
      "metadata": {
        "id": "Cg6h_Xt9sGOW"
      },
      "execution_count": 1,
      "outputs": []
    },
    {
      "cell_type": "code",
      "source": [
        "nome = \"poesia.txt\"    # poderia ser um input(\"Digite o nome do arquivo: \")\n",
        "\n",
        "with open(nome, 'r', encoding='utf-8') as arq_entrada:\n",
        "    # CORPO DO WITH\n",
        "    conteudo = arq_entrada.read()\n",
        "\n",
        "# continue o programa usando conteudo\n",
        "print(conteudo)"
      ],
      "metadata": {
        "colab": {
          "base_uri": "https://localhost:8080/"
        },
        "id": "55Bh9MqcbMSa",
        "outputId": "7e3e3533-94c3-446c-89ca-dc52a79cc6a6"
      },
      "execution_count": 2,
      "outputs": [
        {
          "output_type": "stream",
          "name": "stdout",
          "text": [
            "    O poeta é um fingidor.      \n",
            "    Finge tão completamente     \n",
            "    Que chega a fingir que é dor\n",
            "    A dor que deveras sente.    \n",
            "                Fernando Pessoa.\n",
            "\n"
          ]
        }
      ]
    },
    {
      "cell_type": "code",
      "source": [
        "'''Ao invés de carregar o arquivo inteiro de uma vez,\n",
        "muitos vezes é mais conveniente processar uma linha de\n",
        " cada vez para converte-lo ou extrair as informações\n",
        " necessárias, e assim evitar de manter o arquivo todo\n",
        " (que pode ser muito grande) na memória do computador.\n",
        "\n",
        "Para isso, o Python oferece a seguinte forma de processar as\n",
        "linhas de um arquivo:\n",
        "'''\n",
        "nome = \"poesia.txt\"\n",
        "\n",
        "with open(nome, 'r', encoding='utf-8') as arquivo:\n",
        "    for linha in arquivo:\n",
        "        print(linha)"
      ],
      "metadata": {
        "colab": {
          "base_uri": "https://localhost:8080/"
        },
        "id": "_Zt0MaYVbMiF",
        "outputId": "cdece20b-e7e0-4100-edec-a7a57c2c93ab"
      },
      "execution_count": 3,
      "outputs": [
        {
          "output_type": "stream",
          "name": "stdout",
          "text": [
            "    O poeta é um fingidor.      \n",
            "\n",
            "    Finge tão completamente     \n",
            "\n",
            "    Que chega a fingir que é dor\n",
            "\n",
            "    A dor que deveras sente.    \n",
            "\n",
            "                Fernando Pessoa.\n",
            "\n"
          ]
        }
      ]
    },
    {
      "cell_type": "code",
      "source": [
        "'''\n",
        "O método strip() é um método para eliminar o \\n e demais caracteres\n",
        "considerados “brancos” (como o espaço e o tab)\n",
        "no início e final de um string. Experimente agora\n",
        "rodar o programa abaixo:\n",
        "'''\n",
        "nome = \"poesia.txt\"\n",
        "\n",
        "with open(nome, 'r', encoding='utf-8') as arquivo:\n",
        "    for linha in arquivo:\n",
        "        linha_sem_brancos = linha.strip()\n",
        "        print(linha_sem_brancos)"
      ],
      "metadata": {
        "colab": {
          "base_uri": "https://localhost:8080/"
        },
        "id": "zl-FU1z4bw6_",
        "outputId": "c438cefb-4447-4258-c184-4c36ebcfb37d"
      },
      "execution_count": 5,
      "outputs": [
        {
          "output_type": "stream",
          "name": "stdout",
          "text": [
            "O poeta é um fingidor.\n",
            "Finge tão completamente\n",
            "Que chega a fingir que é dor\n",
            "A dor que deveras sente.\n",
            "Fernando Pessoa.\n"
          ]
        }
      ]
    },
    {
      "cell_type": "code",
      "source": [
        "'''\n",
        "O strip() é muito útil quando estamos interessados apenas\n",
        "no texto e podemos desconsiderar a formatação. Observe que\n",
        "não apenas o \\n foi desconsiderado, mas também o tab no\n",
        "início de cada linha do poema.\n",
        "\n",
        "Finalmente, se além do texto queremos separar a frase em palavras, podemos utilizar o método split(), que em seu comportamento padrão separa a frase em palavras usando os caracteres considerados “brancos” como separadores. Rode o seguinte programa para ver o resultado de split() nas linhas do poema.\n",
        "'''\n",
        "linhas = [\n",
        "            \"    O poeta é um fingidor.      \\n\",\n",
        "            \"    Finge tão completamente     \\n\",\n",
        "            \"    Que chega a fingir que é dor\\n\",\n",
        "            \"    A dor que deveras sente.    \\n\",\n",
        "            \"                Fernando Pessoa.\\n\"\n",
        "            ]\n",
        "\n",
        "for linha in linhas:\n",
        "    linha_sem_brancos = linha.strip()\n",
        "    print(linha_sem_brancos)\n",
        "    palavras = linha_sem_brancos.split()\n",
        "    print(palavras)\n",
        "\n"
      ],
      "metadata": {
        "colab": {
          "base_uri": "https://localhost:8080/"
        },
        "id": "CN4iQa9Ub_-i",
        "outputId": "6d95a458-ae75-4b74-8dae-bd45bbb7dcfc"
      },
      "execution_count": 6,
      "outputs": [
        {
          "output_type": "stream",
          "name": "stdout",
          "text": [
            "O poeta é um fingidor.\n",
            "['O', 'poeta', 'é', 'um', 'fingidor.']\n",
            "Finge tão completamente\n",
            "['Finge', 'tão', 'completamente']\n",
            "Que chega a fingir que é dor\n",
            "['Que', 'chega', 'a', 'fingir', 'que', 'é', 'dor']\n",
            "A dor que deveras sente.\n",
            "['A', 'dor', 'que', 'deveras', 'sente.']\n",
            "Fernando Pessoa.\n",
            "['Fernando', 'Pessoa.']\n"
          ]
        }
      ]
    },
    {
      "cell_type": "markdown",
      "source": [
        "Usando a função do item anterior, escreva um programa que leia uma linha com palavras separadas por vírgula, e determina o comprimento da maior palavra. A linha pode conter palavras vazias."
      ],
      "metadata": {
        "id": "II1swblkw286"
      }
    },
    {
      "cell_type": "code",
      "source": [
        "import math"
      ],
      "metadata": {
        "id": "RbkIAiDzcyqm"
      },
      "execution_count": 7,
      "outputs": []
    },
    {
      "cell_type": "code",
      "source": [
        "def separa(texto, sep= ' '):\n",
        "    palavras =[]\n",
        "    texto = texto.split(sep)\n",
        "    for palavra in texto:\n",
        "        palavras.append(palavra)\n",
        "    return palavras\n",
        "\n",
        "def comprimento(str):\n",
        "    compr = []\n",
        "    compr.append(len(str))\n",
        "    return compr\n",
        "\n",
        "def main():\n",
        "    palavras = separa(input('digite: '))\n",
        "    compr = map(comprimento, palavras)\n",
        "\n",
        "    print(max(compr))\n",
        "\n",
        "\n",
        "\n",
        "main()"
      ],
      "metadata": {
        "colab": {
          "base_uri": "https://localhost:8080/"
        },
        "id": "1P25D_sCw9Ys",
        "outputId": "a3a9ca14-fc6b-460b-cdc5-e84ce896c45f"
      },
      "execution_count": 34,
      "outputs": [
        {
          "output_type": "stream",
          "name": "stdout",
          "text": [
            "digite: o amor tem dessas coisinhas\n",
            "[9]\n"
          ]
        }
      ]
    },
    {
      "cell_type": "code",
      "source": [
        "def main():\n",
        "    soma = 0\n",
        "    conta_aberta = 1\n",
        "    while True:\n",
        "        n = float(input('digite um valor: '))\n",
        "        soma += n\n",
        "        conta_encerrada = int(input('Fechar a conta? 0 (sim), 1(nao): '))\n",
        "        if conta_encerrada == 0:\n",
        "            return f'A soma total da mesa é: R$ {soma}'\n",
        "            break\n",
        "        else:\n",
        "            continue\n",
        "\n",
        "\n",
        "\n",
        "\n",
        "    '''\n",
        "    lê uma linha com numeros reais e calcula a soma dos numeros\n",
        "    '''\n",
        "\n",
        "#-----------------------------------------------\n",
        "main()"
      ],
      "metadata": {
        "colab": {
          "base_uri": "https://localhost:8080/",
          "height": 105
        },
        "id": "ALy06N8Uzs5a",
        "outputId": "012b2989-22be-43dd-b0ab-c49a6fec1be7"
      },
      "execution_count": 43,
      "outputs": [
        {
          "name": "stdout",
          "output_type": "stream",
          "text": [
            "digite um valor: 20\n",
            "Fechar a conta? 0 (sim, 1(nao): 1\n",
            "digite um valor: 30\n",
            "Fechar a conta? 0 (sim, 1(nao): 0\n"
          ]
        },
        {
          "output_type": "execute_result",
          "data": {
            "text/plain": [
              "'A soma total da mesa é: R$ 50.0'"
            ],
            "application/vnd.google.colaboratory.intrinsic+json": {
              "type": "string"
            }
          },
          "metadata": {},
          "execution_count": 43
        }
      ]
    },
    {
      "cell_type": "code",
      "source": [],
      "metadata": {
        "id": "cwxXStbaDciE"
      },
      "execution_count": null,
      "outputs": []
    }
  ]
}