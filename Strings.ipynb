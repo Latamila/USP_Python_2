{
  "cells": [
    {
      "cell_type": "markdown",
      "metadata": {
        "id": "view-in-github",
        "colab_type": "text"
      },
      "source": [
        "<a href=\"https://colab.research.google.com/github/Latamila/USP_Python_2/blob/main/Strings.ipynb\" target=\"_parent\"><img src=\"https://colab.research.google.com/assets/colab-badge.svg\" alt=\"Open In Colab\"/></a>"
      ]
    },
    {
      "cell_type": "code",
      "execution_count": null,
      "metadata": {
        "id": "LJXKFEfIVpAq"
      },
      "outputs": [],
      "source": [
        "'''\n",
        "Escrever uma função que recebe uma lista de strings contendo\n",
        "nomes de pessoas como parametro e devolve o nome mais curto. A\n",
        "função deve ignorar espaços antes e depois do nome e deve devolver o nome\n",
        "capitalizado, apenas com a primeira letra maiuscula.\n",
        "'''"
      ]
    },
    {
      "cell_type": "code",
      "execution_count": null,
      "metadata": {
        "colab": {
          "base_uri": "https://localhost:8080/",
          "height": 36
        },
        "id": "vSGoPoJyV7zv",
        "outputId": "d9d4f074-8162-4d08-b465-31acad3ce1c6"
      },
      "outputs": [
        {
          "output_type": "execute_result",
          "data": {
            "text/plain": [
              "'Ana'"
            ],
            "application/vnd.google.colaboratory.intrinsic+json": {
              "type": "string"
            }
          },
          "metadata": {},
          "execution_count": 1
        }
      ],
      "source": [
        "def nome_mais_curto(list):\n",
        "    nome_curto = list[0]\n",
        "    for i in range(len(list)):\n",
        "        nome = list[i].strip()\n",
        "        nome = nome.capitalize()\n",
        "        if len(nome) < len(nome_curto):\n",
        "            nome_curto = nome\n",
        "\n",
        "    return nome_curto\n",
        "\n",
        "lista= ['camila','alex','mateus','jonas','ana']\n",
        "nome_mais_curto(lista)"
      ]
    },
    {
      "cell_type": "code",
      "execution_count": null,
      "metadata": {
        "id": "1-J7niZzZtYR"
      },
      "outputs": [],
      "source": [
        "frase = ' Python É Uma Linguagem Poderosa'"
      ]
    },
    {
      "cell_type": "code",
      "execution_count": null,
      "metadata": {
        "colab": {
          "base_uri": "https://localhost:8080/",
          "height": 36
        },
        "id": "nrLSUhBkZ54w",
        "outputId": "232a3411-c62f-4dd1-d6a0-5f1cb14dd0fb"
      },
      "outputs": [
        {
          "output_type": "execute_result",
          "data": {
            "text/plain": [
              "' PYTHON É UMA LINGUAGEM PODEROSA'"
            ],
            "application/vnd.google.colaboratory.intrinsic+json": {
              "type": "string"
            }
          },
          "metadata": {},
          "execution_count": 5
        }
      ],
      "source": [
        "frase.upper()"
      ]
    },
    {
      "cell_type": "code",
      "execution_count": null,
      "metadata": {
        "colab": {
          "base_uri": "https://localhost:8080/",
          "height": 36
        },
        "id": "wuPddRNeZ7p7",
        "outputId": "d88feadd-ac23-4d5c-ca24-0f56f2ccb263"
      },
      "outputs": [
        {
          "output_type": "execute_result",
          "data": {
            "text/plain": [
              "' Python É Uma Linguagem Avançada'"
            ],
            "application/vnd.google.colaboratory.intrinsic+json": {
              "type": "string"
            }
          },
          "metadata": {},
          "execution_count": 6
        }
      ],
      "source": [
        "frase.replace('Poderosa','Avançada')"
      ]
    },
    {
      "cell_type": "code",
      "execution_count": null,
      "metadata": {
        "colab": {
          "base_uri": "https://localhost:8080/",
          "height": 36
        },
        "id": "aWtroKrWaCMy",
        "outputId": "592412f0-dbd5-4058-e78a-2befea87aff5"
      },
      "outputs": [
        {
          "output_type": "execute_result",
          "data": {
            "text/plain": [
              "' python é uma linguagem poderosa'"
            ],
            "application/vnd.google.colaboratory.intrinsic+json": {
              "type": "string"
            }
          },
          "metadata": {},
          "execution_count": 7
        }
      ],
      "source": [
        "frase.capitalize()"
      ]
    },
    {
      "cell_type": "code",
      "execution_count": null,
      "metadata": {
        "colab": {
          "base_uri": "https://localhost:8080/",
          "height": 36
        },
        "id": "PGYSzWt8aGCg",
        "outputId": "dd061ce7-96b4-4472-ab06-b0888f7e1717"
      },
      "outputs": [
        {
          "output_type": "execute_result",
          "data": {
            "text/plain": [
              "'Linguagem Poderosa'"
            ],
            "application/vnd.google.colaboratory.intrinsic+json": {
              "type": "string"
            }
          },
          "metadata": {},
          "execution_count": 8
        }
      ],
      "source": [
        "frase[14:]"
      ]
    },
    {
      "cell_type": "code",
      "execution_count": null,
      "metadata": {
        "colab": {
          "base_uri": "https://localhost:8080/",
          "height": 36
        },
        "id": "V2E2YXP_aNx1",
        "outputId": "e9036ec4-4cbf-4a6b-c07e-8818a00943d3"
      },
      "outputs": [
        {
          "output_type": "execute_result",
          "data": {
            "text/plain": [
              "' Pytho'"
            ],
            "application/vnd.google.colaboratory.intrinsic+json": {
              "type": "string"
            }
          },
          "metadata": {},
          "execution_count": 9
        }
      ],
      "source": [
        "frase[:6]"
      ]
    },
    {
      "cell_type": "code",
      "execution_count": null,
      "metadata": {
        "colab": {
          "base_uri": "https://localhost:8080/",
          "height": 36
        },
        "id": "IjLCujgJaQBr",
        "outputId": "4ffe9910-c65f-4e78-fd3f-a3210d69d950"
      },
      "outputs": [
        {
          "output_type": "execute_result",
          "data": {
            "text/plain": [
              "' python é uma linguagem poderosa'"
            ],
            "application/vnd.google.colaboratory.intrinsic+json": {
              "type": "string"
            }
          },
          "metadata": {},
          "execution_count": 10
        }
      ],
      "source": [
        "frase.lower()"
      ]
    },
    {
      "cell_type": "code",
      "execution_count": null,
      "metadata": {
        "colab": {
          "base_uri": "https://localhost:8080/",
          "height": 36
        },
        "id": "_DWqfoVpaSCy",
        "outputId": "1123f2b0-1708-482a-a8ca-26d8ccc3658b"
      },
      "outputs": [
        {
          "output_type": "execute_result",
          "data": {
            "text/plain": [
              "'Python É Uma Linguagem Poderosa'"
            ],
            "application/vnd.google.colaboratory.intrinsic+json": {
              "type": "string"
            }
          },
          "metadata": {},
          "execution_count": 11
        }
      ],
      "source": [
        "frase.strip()"
      ]
    },
    {
      "cell_type": "code",
      "execution_count": null,
      "metadata": {
        "id": "wnNOBTH2ab7a"
      },
      "outputs": [],
      "source": [
        "frase = 'São Paulo é a maior cidade do Brasil'"
      ]
    },
    {
      "cell_type": "code",
      "execution_count": null,
      "metadata": {
        "colab": {
          "base_uri": "https://localhost:8080/"
        },
        "id": "xAHUuImSaUX4",
        "outputId": "b636b59e-65e6-4198-e211-a26826aafda6"
      },
      "outputs": [
        {
          "output_type": "execute_result",
          "data": {
            "text/plain": [
              "4"
            ]
          },
          "metadata": {},
          "execution_count": 13
        }
      ],
      "source": [
        "frase.count('o')"
      ]
    },
    {
      "cell_type": "code",
      "execution_count": null,
      "metadata": {
        "colab": {
          "base_uri": "https://localhost:8080/"
        },
        "id": "_v7mwSRtaYfO",
        "outputId": "d61f1937-da6f-462b-deba-3945dc8a8745"
      },
      "outputs": [
        {
          "output_type": "execute_result",
          "data": {
            "text/plain": [
              "36"
            ]
          },
          "metadata": {},
          "execution_count": 14
        }
      ],
      "source": [
        "len(frase)"
      ]
    },
    {
      "cell_type": "code",
      "execution_count": null,
      "metadata": {
        "colab": {
          "base_uri": "https://localhost:8080/"
        },
        "id": "tOij3E2oah64",
        "outputId": "599d634f-8202-4f20-a5c4-94591beabd5a"
      },
      "outputs": [
        {
          "output_type": "execute_result",
          "data": {
            "text/plain": [
              "-1"
            ]
          },
          "metadata": {},
          "execution_count": 15
        }
      ],
      "source": [
        "frase.find('w')# -1 quer dizer nao encontrado."
      ]
    },
    {
      "cell_type": "code",
      "execution_count": null,
      "metadata": {
        "colab": {
          "base_uri": "https://localhost:8080/"
        },
        "id": "c__gNRVkakfZ",
        "outputId": "d650a727-4cc9-4f4e-f444-d52659fa722f"
      },
      "outputs": [
        {
          "output_type": "execute_result",
          "data": {
            "text/plain": [
              "15"
            ]
          },
          "metadata": {},
          "execution_count": 16
        }
      ],
      "source": [
        "frase.find('ai')"
      ]
    },
    {
      "cell_type": "code",
      "execution_count": null,
      "metadata": {
        "id": "VW4WsZm1amvN"
      },
      "outputs": [],
      "source": [
        "x = 'teoria'\n",
        "y = 'pratica'"
      ]
    },
    {
      "cell_type": "code",
      "execution_count": null,
      "metadata": {
        "colab": {
          "base_uri": "https://localhost:8080/"
        },
        "id": "F2fNUhTObafz",
        "outputId": "09a06ae3-60b5-4488-dd4d-309a58aac33f"
      },
      "outputs": [
        {
          "output_type": "execute_result",
          "data": {
            "text/plain": [
              "False"
            ]
          },
          "metadata": {},
          "execution_count": 18
        }
      ],
      "source": [
        "x == y"
      ]
    },
    {
      "cell_type": "code",
      "execution_count": null,
      "metadata": {
        "colab": {
          "base_uri": "https://localhost:8080/"
        },
        "id": "3nytRHoFbbNm",
        "outputId": "fca4932c-e506-4e49-b138-d40d27d1fadb"
      },
      "outputs": [
        {
          "output_type": "execute_result",
          "data": {
            "text/plain": [
              "True"
            ]
          },
          "metadata": {},
          "execution_count": 19
        }
      ],
      "source": [
        "x != y"
      ]
    },
    {
      "cell_type": "code",
      "execution_count": null,
      "metadata": {
        "id": "jcJim1Clbc_w"
      },
      "outputs": [],
      "source": [
        "z = 'teoria'"
      ]
    },
    {
      "cell_type": "code",
      "execution_count": null,
      "metadata": {
        "colab": {
          "base_uri": "https://localhost:8080/"
        },
        "id": "bmVg32pWbhIZ",
        "outputId": "a462c330-c453-4050-b336-837d235c6f16"
      },
      "outputs": [
        {
          "output_type": "execute_result",
          "data": {
            "text/plain": [
              "True"
            ]
          },
          "metadata": {},
          "execution_count": 21
        }
      ],
      "source": [
        "x == z"
      ]
    },
    {
      "cell_type": "code",
      "execution_count": null,
      "metadata": {
        "colab": {
          "base_uri": "https://localhost:8080/"
        },
        "id": "G-gv70PTbjI9",
        "outputId": "752a1701-a0e1-480e-b101-75917b73bbb1"
      },
      "outputs": [
        {
          "output_type": "execute_result",
          "data": {
            "text/plain": [
              "True"
            ]
          },
          "metadata": {},
          "execution_count": 22
        }
      ],
      "source": [
        "x is z #no caso de string, eles apontam para a mesma\n",
        "#posição de memoria"
      ]
    },
    {
      "cell_type": "code",
      "execution_count": null,
      "metadata": {
        "colab": {
          "base_uri": "https://localhost:8080/"
        },
        "id": "MACfv3r-bl2r",
        "outputId": "a49c8524-4323-4692-8102-7d22411245a2"
      },
      "outputs": [
        {
          "output_type": "execute_result",
          "data": {
            "text/plain": [
              "True"
            ]
          },
          "metadata": {},
          "execution_count": 23
        }
      ],
      "source": [
        "x > y #ordem de caracter por caracter(se o codigo\n",
        "#de um é maior que outro)"
      ]
    },
    {
      "cell_type": "code",
      "execution_count": null,
      "metadata": {
        "colab": {
          "base_uri": "https://localhost:8080/"
        },
        "id": "8VKVqtNAcBac",
        "outputId": "f453ce68-d14c-4e16-b224-772dab8b4d1a"
      },
      "outputs": [
        {
          "output_type": "execute_result",
          "data": {
            "text/plain": [
              "97"
            ]
          },
          "metadata": {},
          "execution_count": 24
        }
      ],
      "source": [
        "#para saber o comprimento usa-se função ord\n",
        "ord('a')"
      ]
    },
    {
      "cell_type": "code",
      "execution_count": null,
      "metadata": {
        "colab": {
          "base_uri": "https://localhost:8080/"
        },
        "id": "_n5tj637bz7z",
        "outputId": "36b65246-d732-450f-a4e2-ff7a5d156c2c"
      },
      "outputs": [
        {
          "output_type": "execute_result",
          "data": {
            "text/plain": [
              "65"
            ]
          },
          "metadata": {},
          "execution_count": 25
        }
      ],
      "source": [
        "ord('A') #note que maiusculas tem diferença\n"
      ]
    },
    {
      "cell_type": "code",
      "execution_count": null,
      "metadata": {
        "colab": {
          "base_uri": "https://localhost:8080/"
        },
        "id": "xaEs_fNEcLv-",
        "outputId": "994a6961-affd-4424-bc55-427add45826b"
      },
      "outputs": [
        {
          "output_type": "execute_result",
          "data": {
            "text/plain": [
              "116"
            ]
          },
          "metadata": {},
          "execution_count": 26
        }
      ],
      "source": [
        "ord('t')"
      ]
    },
    {
      "cell_type": "code",
      "execution_count": null,
      "metadata": {
        "colab": {
          "base_uri": "https://localhost:8080/"
        },
        "id": "GHTGAuf1cS2P",
        "outputId": "733383e6-2dbb-401d-8e44-c4c3aa2407dc"
      },
      "outputs": [
        {
          "output_type": "execute_result",
          "data": {
            "text/plain": [
              "False"
            ]
          },
          "metadata": {},
          "execution_count": 27
        }
      ],
      "source": [
        "'Maça' > 'banana'"
      ]
    },
    {
      "cell_type": "code",
      "execution_count": null,
      "metadata": {
        "colab": {
          "base_uri": "https://localhost:8080/"
        },
        "id": "0LSPTsiGcbuK",
        "outputId": "c78d4938-2500-4e58-a064-e32f59f6cdde"
      },
      "outputs": [
        {
          "output_type": "execute_result",
          "data": {
            "text/plain": [
              "True"
            ]
          },
          "metadata": {},
          "execution_count": 28
        }
      ],
      "source": [
        "'Maça'.lower() > 'banana'.lower()"
      ]
    },
    {
      "cell_type": "code",
      "execution_count": null,
      "metadata": {
        "colab": {
          "base_uri": "https://localhost:8080/"
        },
        "id": "d7C6MjpvcyZf",
        "outputId": "686b8ed9-9921-4f82-a7b6-88eff96f1988"
      },
      "outputs": [
        {
          "output_type": "execute_result",
          "data": {
            "text/plain": [
              "False"
            ]
          },
          "metadata": {},
          "execution_count": 29
        }
      ],
      "source": [
        "x <y"
      ]
    },
    {
      "cell_type": "code",
      "execution_count": null,
      "metadata": {
        "colab": {
          "base_uri": "https://localhost:8080/"
        },
        "id": "7JdFfG7sclt3",
        "outputId": "afb9bcd8-8706-4a0d-9623-159f08e3b3dc"
      },
      "outputs": [
        {
          "output_type": "execute_result",
          "data": {
            "text/plain": [
              "True"
            ]
          },
          "metadata": {},
          "execution_count": 30
        }
      ],
      "source": [
        "x>y"
      ]
    },
    {
      "cell_type": "code",
      "execution_count": null,
      "metadata": {
        "colab": {
          "base_uri": "https://localhost:8080/"
        },
        "id": "ODEQiyIgc_Sx",
        "outputId": "81e9e38a-6814-482c-ce11-e9311896b401"
      },
      "outputs": [
        {
          "output_type": "execute_result",
          "data": {
            "text/plain": [
              "True"
            ]
          },
          "metadata": {},
          "execution_count": 31
        }
      ],
      "source": [
        "x >= y"
      ]
    },
    {
      "cell_type": "code",
      "execution_count": null,
      "metadata": {
        "id": "muxYPbmGdBDC",
        "colab": {
          "base_uri": "https://localhost:8080/"
        },
        "outputId": "a1ca53d5-abae-4367-a8e5-6eb9b7cb9d71"
      },
      "outputs": [
        {
          "output_type": "execute_result",
          "data": {
            "text/plain": [
              "(['Abacate', 'ameixa', 'banana', 'Coco', 'maca', 'pera'], 'Abacate')"
            ]
          },
          "metadata": {},
          "execution_count": 67
        }
      ],
      "source": [
        "\n",
        "'''\n",
        "Escreva uma função que recebe um array de strings como parametro\n",
        "e devolve o primeiro string na ordem lexicográfica, ignorando-se\n",
        "letras maiusculas.\n",
        "'''\n",
        "\n",
        "def ordem_alfabetica(list):\n",
        "    nova = sorted(list, key=str.lower)\n",
        "    return nova, nova[0]\n",
        "\n",
        "\n",
        "\n",
        "frutas = ['banana',\n",
        "          'pera',\n",
        "          'maca',\n",
        "          'ameixa',\n",
        "          'Abacate',\n",
        "          'Coco']\n",
        "\n",
        "\n",
        "ordem_alfabetica(frutas)"
      ]
    },
    {
      "cell_type": "code",
      "source": [
        "'''\n",
        "Esta função parece que armazena em uma variavel o comprimento\n",
        "da string decrementando uma unidade.\n",
        "\n",
        "Depois armazena a string transforma,inteiramente, em letras maiusculas.\n",
        "\n",
        "Foi feito um laço com while colocando como marcador de tempo a variavel pos.\n",
        "\n",
        "Dentro do laço, é imprimido cada caractere, unido pois se eliminou a quebra\n",
        "de linha com end=''.\n",
        "\n",
        "Por fim, decrementa a variavel pos em 1 unidade.\n",
        "'''\n",
        "\n",
        "def fazAlgo(string):\n",
        "    pos = len(string)-1\n",
        "    string = string.upper()\n",
        "    while pos >= 0:\n",
        "        print(string[pos], end = \"\")\n",
        "        pos = pos - 1\n",
        "\n",
        "\n",
        "fazAlgo('paralelepipedo')"
      ],
      "metadata": {
        "colab": {
          "base_uri": "https://localhost:8080/"
        },
        "id": "vyv8tbL1n0Kh",
        "outputId": "56572596-a819-467b-8f0d-17ab9101439f"
      },
      "execution_count": null,
      "outputs": [
        {
          "output_type": "stream",
          "name": "stdout",
          "text": [
            "ODEPIPELELARAP"
          ]
        }
      ]
    },
    {
      "cell_type": "code",
      "source": [
        "palavra = 'paralelepipedo'\n",
        "pos = len(palavra)-1\n",
        "palavra = palavra.upper()\n",
        "for p in palavra:\n",
        "    print(palavra[pos], end = \"\") #p.ex: palavra[11], palavra[10], palavra[9]\n",
        "    pos = pos - 1"
      ],
      "metadata": {
        "colab": {
          "base_uri": "https://localhost:8080/"
        },
        "id": "mDZ_1TctFmJb",
        "outputId": "ce1a46d3-9cc2-481b-f02b-ddc1f7acd34a"
      },
      "execution_count": null,
      "outputs": [
        {
          "output_type": "stream",
          "name": "stdout",
          "text": [
            "ODEPIPELELARAP"
          ]
        }
      ]
    },
    {
      "cell_type": "code",
      "source": [
        "'''\n",
        "Esta função parece que armazena em uma variavel o contador de tempo.\n",
        "\n",
        "A função string1 vai receber a string customizada.\n",
        "\n",
        "A string é transformada,inteiramente, em letras minusculas.\n",
        "\n",
        "A stringMa é transformada,inteiramente, em letras maiusculas.\n",
        "\n",
        "Foi feito um laço com while colocando como marcador de contagem a variavel pos.\n",
        "\n",
        "Dentro do laço,  se a posição for par, entao armazena na variavel string1,\n",
        "a posição correspondente da variavel stringMa.\n",
        "\n",
        "Senão, armazena na variavel string 1, a posição correspondente\n",
        "da variavel string.\n",
        "\n",
        "Por fim, incrementa a variavel pos em 1 unidade.\n",
        "\n",
        "A função retorna uma string alternada em letras maiusculas e minusculas.\n",
        "\n",
        "'''\n",
        "\n",
        "def fazOutroAlgo(string):\n",
        "    pos = 0\n",
        "    string1 = ''\n",
        "    string = string.lower()\n",
        "    stringMa = string.upper()\n",
        "    while pos < len(string):\n",
        "        if pos % 2 == 0:\n",
        "            string1 = string1 + stringMa[pos]\n",
        "        else:\n",
        "            string1 = string1 + string[pos]\n",
        "        pos = pos + 1\n",
        "    return string1\n",
        "\n",
        "print(fazOutroAlgo('paralelepipedo'))"
      ],
      "metadata": {
        "colab": {
          "base_uri": "https://localhost:8080/"
        },
        "id": "y88e1IgPmOYr",
        "outputId": "c2d51527-1cf9-4ed8-add5-7fbc65eb4822"
      },
      "execution_count": null,
      "outputs": [
        {
          "output_type": "stream",
          "name": "stdout",
          "text": [
            "PaRaLeLePiPeDo\n"
          ]
        }
      ]
    },
    {
      "cell_type": "code",
      "source": [
        "def fazUmAlgo(string):\n",
        "    pos = 0\n",
        "    string1=''\n",
        "    while pos < len(string):\n",
        "        if string[pos] != ' ':\n",
        "            string1 = string1 + string[pos]\n",
        "        pos = pos + 1\n",
        "    string1 = string1.capitalize()\n",
        "    return string1\n",
        "\n",
        "print(fazUmAlgo('É UM TESTE'))"
      ],
      "metadata": {
        "colab": {
          "base_uri": "https://localhost:8080/"
        },
        "id": "k8GrHzzoKoFJ",
        "outputId": "1c3243e9-d850-4521-a4a0-1eeb8cd4ed2d"
      },
      "execution_count": null,
      "outputs": [
        {
          "output_type": "stream",
          "name": "stdout",
          "text": [
            "Éumteste\n"
          ]
        }
      ]
    },
    {
      "cell_type": "markdown",
      "source": [
        "CONCEITOS UTEIS"
      ],
      "metadata": {
        "id": "OWuGSK9WljGO"
      }
    },
    {
      "cell_type": "code",
      "source": [
        "a, b, c = 10,20,30\n",
        "print(a)\n",
        "print(b)\n",
        "print(c)"
      ],
      "metadata": {
        "colab": {
          "base_uri": "https://localhost:8080/"
        },
        "id": "ZH-p2_lAOzIe",
        "outputId": "bb0b19d8-eeeb-431c-f9cc-2c6a72224c4a"
      },
      "execution_count": null,
      "outputs": [
        {
          "output_type": "stream",
          "name": "stdout",
          "text": [
            "10\n",
            "20\n",
            "30\n"
          ]
        }
      ]
    },
    {
      "cell_type": "code",
      "source": [
        "def peso_altura(peso, altura):\n",
        "    a = peso * altura\n",
        "    return a"
      ],
      "metadata": {
        "id": "4iPJOaaql_K0"
      },
      "execution_count": null,
      "outputs": []
    },
    {
      "cell_type": "code",
      "source": [
        "peso, altura = 70, 1.69\n",
        "peso_altura(peso, altura)"
      ],
      "metadata": {
        "id": "_P3oW1z6lomy",
        "colab": {
          "base_uri": "https://localhost:8080/"
        },
        "outputId": "ed2505f9-010c-431e-cac8-3cd68b2ecc27"
      },
      "execution_count": null,
      "outputs": [
        {
          "output_type": "execute_result",
          "data": {
            "text/plain": [
              "118.3"
            ]
          },
          "metadata": {},
          "execution_count": 4
        }
      ]
    },
    {
      "cell_type": "code",
      "source": [
        "print('*------ANTES------*')\n",
        "print(a)\n",
        "print(b)\n",
        "print(c)\n",
        "print('*------DEPOIS------*')\n",
        "a, b = b, a\n",
        "print(a)\n",
        "print(b)\n",
        "print(c)"
      ],
      "metadata": {
        "id": "WyZsHojEmT3V",
        "colab": {
          "base_uri": "https://localhost:8080/"
        },
        "outputId": "51e782b7-bf1a-4976-9aba-1a65187d321c"
      },
      "execution_count": null,
      "outputs": [
        {
          "output_type": "stream",
          "name": "stdout",
          "text": [
            "*------ANTES------*\n",
            "10\n",
            "20\n",
            "30\n",
            "*------DEPOIS------*\n",
            "20\n",
            "10\n",
            "30\n"
          ]
        }
      ]
    },
    {
      "cell_type": "markdown",
      "source": [
        "ATRIBUIÇÃO AUMENTADA"
      ],
      "metadata": {
        "id": "1ereg9agnUsQ"
      }
    },
    {
      "cell_type": "code",
      "source": [
        "x = 10\n",
        "x += 10\n",
        "\n",
        "#que é a mesma coisa de fazer x = x + 10\n",
        "\n",
        "x = x + 10\n",
        "x"
      ],
      "metadata": {
        "colab": {
          "base_uri": "https://localhost:8080/"
        },
        "id": "3SL3TiFom6D7",
        "outputId": "2f008e5a-7006-4e61-c23e-22bb33b260c7"
      },
      "execution_count": null,
      "outputs": [
        {
          "output_type": "execute_result",
          "data": {
            "text/plain": [
              "30"
            ]
          },
          "metadata": {},
          "execution_count": 12
        }
      ]
    },
    {
      "cell_type": "markdown",
      "source": [
        "Assim temos as atribuições aumentadas para as outras operações matemáticas"
      ],
      "metadata": {
        "id": "t3JTyVejnyJQ"
      }
    },
    {
      "cell_type": "code",
      "source": [
        "x *= 2\n",
        "x"
      ],
      "metadata": {
        "colab": {
          "base_uri": "https://localhost:8080/"
        },
        "id": "qopyP04JncVi",
        "outputId": "d6ebddd7-a92a-4468-a56f-fa7c48550c4b"
      },
      "execution_count": null,
      "outputs": [
        {
          "output_type": "execute_result",
          "data": {
            "text/plain": [
              "60"
            ]
          },
          "metadata": {},
          "execution_count": 13
        }
      ]
    },
    {
      "cell_type": "markdown",
      "source": [
        "O que está acontecendo aqui é uma operação matemática e seu armazenamento na variavel declarada."
      ],
      "metadata": {
        "id": "S653TjXDoNGn"
      }
    },
    {
      "cell_type": "code",
      "source": [
        "y = 2\n",
        "y **= 10\n",
        "y"
      ],
      "metadata": {
        "colab": {
          "base_uri": "https://localhost:8080/"
        },
        "id": "gZJkzQ8Rn7bv",
        "outputId": "5828af9e-9ff6-4f6f-b191-1391059da621"
      },
      "execution_count": null,
      "outputs": [
        {
          "output_type": "execute_result",
          "data": {
            "text/plain": [
              "1024"
            ]
          },
          "metadata": {},
          "execution_count": 14
        }
      ]
    },
    {
      "cell_type": "markdown",
      "source": [
        "VALORES PADRÃO PARA PARÂMETRO"
      ],
      "metadata": {
        "id": "9rOKgNB_oZ-O"
      }
    },
    {
      "cell_type": "code",
      "source": [
        "def pagamento_semanal(valor_hora, horas_trabalhadas):\n",
        "    return valor_hora * horas_trabalhadas"
      ],
      "metadata": {
        "id": "s6sVYhvloJYC"
      },
      "execution_count": null,
      "outputs": []
    },
    {
      "cell_type": "code",
      "source": [
        "pagamento_semanal(100,36)"
      ],
      "metadata": {
        "colab": {
          "base_uri": "https://localhost:8080/"
        },
        "id": "sCEqISeUopYZ",
        "outputId": "f9bae860-9d14-4577-beff-1c650442a249"
      },
      "execution_count": null,
      "outputs": [
        {
          "output_type": "execute_result",
          "data": {
            "text/plain": [
              "3600"
            ]
          },
          "metadata": {},
          "execution_count": 16
        }
      ]
    },
    {
      "cell_type": "markdown",
      "source": [
        "Agora podemos padronizar um dos parametros para que essa seja uma constante."
      ],
      "metadata": {
        "id": "l4UoXpvDo46c"
      }
    },
    {
      "cell_type": "code",
      "source": [
        "def pagamento_por_semana(valor_hora, horas_trabalhadas = 40):\n",
        "    return valor_hora * horas_trabalhadas"
      ],
      "metadata": {
        "id": "GgJfN4NIovCl"
      },
      "execution_count": null,
      "outputs": []
    },
    {
      "cell_type": "code",
      "source": [
        "pagamento_por_semana(100)"
      ],
      "metadata": {
        "colab": {
          "base_uri": "https://localhost:8080/"
        },
        "id": "BvZclZ6lpGvU",
        "outputId": "a528ac1b-6383-467d-edae-5753da5c2a9b"
      },
      "execution_count": 38,
      "outputs": [
        {
          "output_type": "execute_result",
          "data": {
            "text/plain": [
              "4000"
            ]
          },
          "metadata": {},
          "execution_count": 38
        }
      ]
    },
    {
      "cell_type": "code",
      "source": [
        "#mas se eu passar parametro diferente para horas_trabalhadas,\n",
        "#este sera atualizado.\n",
        "\n",
        "#Este tipo de parametro é chamado de opcional já que se o\n",
        "#usuario não o passar na função, a execução nao retornará erro.\n",
        "\n",
        "pagamento_por_semana(90,36)"
      ],
      "metadata": {
        "colab": {
          "base_uri": "https://localhost:8080/"
        },
        "id": "BQ6foCaapKTm",
        "outputId": "0e581aa9-8c50-436a-88ae-ae36f150c2a1"
      },
      "execution_count": null,
      "outputs": [
        {
          "output_type": "execute_result",
          "data": {
            "text/plain": [
              "3240"
            ]
          },
          "metadata": {},
          "execution_count": 19
        }
      ]
    },
    {
      "cell_type": "markdown",
      "source": [
        "# ASSERÇÃO DE VARIANTES\n",
        "Comando assert x == y"
      ],
      "metadata": {
        "id": "MLjXodd1p7UA"
      }
    },
    {
      "cell_type": "code",
      "source": [
        "#valor por hora tem que ser uma variavel positiva.\n",
        "def pagamento_mensal(valor_hora, horas_trabalhadas = 40, dias = 30):\n",
        "    try:\n",
        "        assert valor_hora >= 0 and horas_trabalhadas > 0\n",
        "        return valor_hora * horas_trabalhadas\n",
        "    except:\n",
        "        print('Foi atribuido um valor negativo. Tente novamente')\n",
        "\n",
        ""
      ],
      "metadata": {
        "id": "ekngC9XYpykm"
      },
      "execution_count": 34,
      "outputs": []
    },
    {
      "cell_type": "code",
      "source": [
        " pagamento_mensal(35)"
      ],
      "metadata": {
        "colab": {
          "base_uri": "https://localhost:8080/"
        },
        "id": "CetGYW5bqurV",
        "outputId": "353a44f3-3a65-4871-cb1a-64c21677da21"
      },
      "execution_count": 39,
      "outputs": [
        {
          "output_type": "execute_result",
          "data": {
            "text/plain": [
              "1400"
            ]
          },
          "metadata": {},
          "execution_count": 39
        }
      ]
    },
    {
      "cell_type": "code",
      "source": [
        "pagamento_mensal(100,-10)"
      ],
      "metadata": {
        "colab": {
          "base_uri": "https://localhost:8080/"
        },
        "id": "bpx-YNhEq21N",
        "outputId": "29346809-2f31-4c7c-8d6f-09556555890b"
      },
      "execution_count": 40,
      "outputs": [
        {
          "output_type": "stream",
          "name": "stdout",
          "text": [
            "Foi atribuido um valor negativo. Tente novamente\n"
          ]
        }
      ]
    },
    {
      "cell_type": "markdown",
      "source": [
        "O quê será impresso pelo código abaixo?"
      ],
      "metadata": {
        "id": "DhwZrqt45e03"
      }
    },
    {
      "cell_type": "code",
      "source": [
        "x, y = 10, 12\n",
        "x, y = y, x\n",
        "print(\"x = \",x,\"e y = \",y)"
      ],
      "metadata": {
        "id": "7MX9MXdPq6vE",
        "colab": {
          "base_uri": "https://localhost:8080/"
        },
        "outputId": "67d9ccb1-86d9-4e8d-8362-e46365e0dfd3"
      },
      "execution_count": 41,
      "outputs": [
        {
          "output_type": "stream",
          "name": "stdout",
          "text": [
            "x =  12 e y =  10\n"
          ]
        }
      ]
    },
    {
      "cell_type": "markdown",
      "source": [
        "Qual o resultado final impresso pelo código abaixo?  "
      ],
      "metadata": {
        "id": "TfSZ9uwi5l3T"
      }
    },
    {
      "cell_type": "code",
      "source": [
        "x = 10\n",
        "x += 10 #20\n",
        "x /= 2 #10\n",
        "x //= 3 #3\n",
        "x %= 2 #1\n",
        "x *= 9 #9.0\n",
        "print(x)"
      ],
      "metadata": {
        "colab": {
          "base_uri": "https://localhost:8080/"
        },
        "id": "RDPsA8jK5hYp",
        "outputId": "c1fc01b5-51d1-46a2-b193-8fbb73e2a0bd"
      },
      "execution_count": 42,
      "outputs": [
        {
          "output_type": "stream",
          "name": "stdout",
          "text": [
            "9.0\n"
          ]
        }
      ]
    },
    {
      "cell_type": "markdown",
      "source": [
        "Trocando a linha ###### por um determinado print, assinale as alternativas CORRETAS:  "
      ],
      "metadata": {
        "id": "7P-oxq3r6viU"
      }
    },
    {
      "cell_type": "code",
      "source": [
        "def calculo(x, y = 10, z = 5):\n",
        "    return x + y * z;\n",
        "######\n"
      ],
      "metadata": {
        "id": "qEQTAvAz5owk"
      },
      "execution_count": 44,
      "outputs": []
    },
    {
      "cell_type": "code",
      "source": [
        "def calculo(x, y = 10, z = 5):\n",
        "    return x + y * z;\n",
        "\n",
        "print(calculo())"
      ],
      "metadata": {
        "colab": {
          "base_uri": "https://localhost:8080/",
          "height": 217
        },
        "id": "eFnDdz_j6kQF",
        "outputId": "e710bffd-efe9-4e1a-fa31-f1c98c4f1dde"
      },
      "execution_count": 49,
      "outputs": [
        {
          "output_type": "error",
          "ename": "TypeError",
          "evalue": "calculo() missing 1 required positional argument: 'x'",
          "traceback": [
            "\u001b[0;31m---------------------------------------------------------------------------\u001b[0m",
            "\u001b[0;31mTypeError\u001b[0m                                 Traceback (most recent call last)",
            "\u001b[0;32m<ipython-input-49-d7d7b5efb776>\u001b[0m in \u001b[0;36m<cell line: 4>\u001b[0;34m()\u001b[0m\n\u001b[1;32m      2\u001b[0m     \u001b[0;32mreturn\u001b[0m \u001b[0mx\u001b[0m \u001b[0;34m+\u001b[0m \u001b[0my\u001b[0m \u001b[0;34m*\u001b[0m \u001b[0mz\u001b[0m\u001b[0;34m;\u001b[0m\u001b[0;34m\u001b[0m\u001b[0;34m\u001b[0m\u001b[0m\n\u001b[1;32m      3\u001b[0m \u001b[0;34m\u001b[0m\u001b[0m\n\u001b[0;32m----> 4\u001b[0;31m \u001b[0mprint\u001b[0m\u001b[0;34m(\u001b[0m\u001b[0mcalculo\u001b[0m\u001b[0;34m(\u001b[0m\u001b[0;34m)\u001b[0m\u001b[0;34m)\u001b[0m\u001b[0;34m\u001b[0m\u001b[0;34m\u001b[0m\u001b[0m\n\u001b[0m",
            "\u001b[0;31mTypeError\u001b[0m: calculo() missing 1 required positional argument: 'x'"
          ]
        }
      ]
    },
    {
      "cell_type": "code",
      "source": [
        "print(calculo( ,12, 10))"
      ],
      "metadata": {
        "colab": {
          "base_uri": "https://localhost:8080/",
          "height": 144
        },
        "id": "bJonp4rT64pO",
        "outputId": "767fa8ac-a160-411e-f449-798ac68ff51d"
      },
      "execution_count": 50,
      "outputs": [
        {
          "output_type": "error",
          "ename": "SyntaxError",
          "evalue": "invalid syntax (<ipython-input-50-b65e2f8fad69>, line 1)",
          "traceback": [
            "\u001b[0;36m  File \u001b[0;32m\"<ipython-input-50-b65e2f8fad69>\"\u001b[0;36m, line \u001b[0;32m1\u001b[0m\n\u001b[0;31m    print(calculo( ,12, 10))\u001b[0m\n\u001b[0m                   ^\u001b[0m\n\u001b[0;31mSyntaxError\u001b[0m\u001b[0;31m:\u001b[0m invalid syntax\n"
          ]
        }
      ]
    },
    {
      "cell_type": "code",
      "source": [
        " print(calculo(7))"
      ],
      "metadata": {
        "colab": {
          "base_uri": "https://localhost:8080/"
        },
        "id": "VpmF4k3W7XjM",
        "outputId": "1ac8ca6d-6f42-4fbb-ed4f-c273e8ca5bb4"
      },
      "execution_count": 51,
      "outputs": [
        {
          "output_type": "stream",
          "name": "stdout",
          "text": [
            "57\n"
          ]
        }
      ]
    },
    {
      "cell_type": "code",
      "source": [
        "print(calculo(1, 2, 3))"
      ],
      "metadata": {
        "colab": {
          "base_uri": "https://localhost:8080/"
        },
        "id": "kQXYLrS_7bta",
        "outputId": "d110b0ae-2b39-4f34-deb5-1a9a0817baff"
      },
      "execution_count": 52,
      "outputs": [
        {
          "output_type": "stream",
          "name": "stdout",
          "text": [
            "7\n"
          ]
        }
      ]
    },
    {
      "cell_type": "code",
      "source": [
        "print(calculo(7, 2))"
      ],
      "metadata": {
        "colab": {
          "base_uri": "https://localhost:8080/"
        },
        "id": "aGSsmp867eXn",
        "outputId": "78e19755-f2ff-412f-ea75-31e50923b3ea"
      },
      "execution_count": 53,
      "outputs": [
        {
          "output_type": "stream",
          "name": "stdout",
          "text": [
            "17\n"
          ]
        }
      ]
    },
    {
      "cell_type": "markdown",
      "source": [
        "O código abaixo transforma as horas, minutos e segundos passados como parâmetro em segundos:"
      ],
      "metadata": {
        "id": "kFKhmVLa7pTV"
      }
    },
    {
      "cell_type": "code",
      "source": [
        "def horario_em_segundos(h, m, s):\n",
        "    assert h >= 0 and m >= 0 and s >= 0\n",
        "    return h * 3600 + m * 60 + s\n",
        "######"
      ],
      "metadata": {
        "id": "SjT-siLC7huW"
      },
      "execution_count": 56,
      "outputs": []
    },
    {
      "cell_type": "code",
      "source": [
        "print(horario_em_segundos (-1,20,30))"
      ],
      "metadata": {
        "colab": {
          "base_uri": "https://localhost:8080/",
          "height": 290
        },
        "id": "ThhlC4oY7w0L",
        "outputId": "ade76f14-929a-42ec-f4db-b02ccfc13a16"
      },
      "execution_count": 57,
      "outputs": [
        {
          "output_type": "error",
          "ename": "AssertionError",
          "evalue": "",
          "traceback": [
            "\u001b[0;31m---------------------------------------------------------------------------\u001b[0m",
            "\u001b[0;31mAssertionError\u001b[0m                            Traceback (most recent call last)",
            "\u001b[0;32m<ipython-input-57-f215bf148cc7>\u001b[0m in \u001b[0;36m<cell line: 1>\u001b[0;34m()\u001b[0m\n\u001b[0;32m----> 1\u001b[0;31m \u001b[0mprint\u001b[0m\u001b[0;34m(\u001b[0m\u001b[0mhorario_em_segundos\u001b[0m \u001b[0;34m(\u001b[0m\u001b[0;34m-\u001b[0m\u001b[0;36m1\u001b[0m\u001b[0;34m,\u001b[0m\u001b[0;36m20\u001b[0m\u001b[0;34m,\u001b[0m\u001b[0;36m30\u001b[0m\u001b[0;34m)\u001b[0m\u001b[0;34m)\u001b[0m\u001b[0;34m\u001b[0m\u001b[0;34m\u001b[0m\u001b[0m\n\u001b[0m",
            "\u001b[0;32m<ipython-input-56-8fbea48a8bf5>\u001b[0m in \u001b[0;36mhorario_em_segundos\u001b[0;34m(h, m, s)\u001b[0m\n\u001b[1;32m      1\u001b[0m \u001b[0;32mdef\u001b[0m \u001b[0mhorario_em_segundos\u001b[0m\u001b[0;34m(\u001b[0m\u001b[0mh\u001b[0m\u001b[0;34m,\u001b[0m \u001b[0mm\u001b[0m\u001b[0;34m,\u001b[0m \u001b[0ms\u001b[0m\u001b[0;34m)\u001b[0m\u001b[0;34m:\u001b[0m\u001b[0;34m\u001b[0m\u001b[0;34m\u001b[0m\u001b[0m\n\u001b[0;32m----> 2\u001b[0;31m     \u001b[0;32massert\u001b[0m \u001b[0mh\u001b[0m \u001b[0;34m>=\u001b[0m \u001b[0;36m0\u001b[0m \u001b[0;32mand\u001b[0m \u001b[0mm\u001b[0m \u001b[0;34m>=\u001b[0m \u001b[0;36m0\u001b[0m \u001b[0;32mand\u001b[0m \u001b[0ms\u001b[0m \u001b[0;34m>=\u001b[0m \u001b[0;36m0\u001b[0m\u001b[0;34m\u001b[0m\u001b[0;34m\u001b[0m\u001b[0m\n\u001b[0m\u001b[1;32m      3\u001b[0m     \u001b[0;32mreturn\u001b[0m \u001b[0mh\u001b[0m \u001b[0;34m*\u001b[0m \u001b[0;36m3600\u001b[0m \u001b[0;34m+\u001b[0m \u001b[0mm\u001b[0m \u001b[0;34m*\u001b[0m \u001b[0;36m60\u001b[0m \u001b[0;34m+\u001b[0m \u001b[0ms\u001b[0m\u001b[0;34m\u001b[0m\u001b[0;34m\u001b[0m\u001b[0m\n\u001b[1;32m      4\u001b[0m \u001b[0;31m######\u001b[0m\u001b[0;34m\u001b[0m\u001b[0;34m\u001b[0m\u001b[0m\n",
            "\u001b[0;31mAssertionError\u001b[0m: "
          ]
        }
      ]
    },
    {
      "cell_type": "code",
      "source": [
        "print(horario_em_segundos (3,0,50))"
      ],
      "metadata": {
        "colab": {
          "base_uri": "https://localhost:8080/"
        },
        "id": "Xz71sYuo70LM",
        "outputId": "5dd94f44-4977-4ed7-96b6-2c6c1d9166fd"
      },
      "execution_count": 58,
      "outputs": [
        {
          "output_type": "stream",
          "name": "stdout",
          "text": [
            "10850\n"
          ]
        }
      ]
    },
    {
      "cell_type": "code",
      "source": [
        "print(horario_em_segundos (1,33,-50))"
      ],
      "metadata": {
        "colab": {
          "base_uri": "https://localhost:8080/",
          "height": 290
        },
        "id": "YCEnTQvB73qK",
        "outputId": "66fc98e2-a542-4f09-9bb3-81f47cc157fe"
      },
      "execution_count": 59,
      "outputs": [
        {
          "output_type": "error",
          "ename": "AssertionError",
          "evalue": "",
          "traceback": [
            "\u001b[0;31m---------------------------------------------------------------------------\u001b[0m",
            "\u001b[0;31mAssertionError\u001b[0m                            Traceback (most recent call last)",
            "\u001b[0;32m<ipython-input-59-9c8ea6a75e6b>\u001b[0m in \u001b[0;36m<cell line: 1>\u001b[0;34m()\u001b[0m\n\u001b[0;32m----> 1\u001b[0;31m \u001b[0mprint\u001b[0m\u001b[0;34m(\u001b[0m\u001b[0mhorario_em_segundos\u001b[0m \u001b[0;34m(\u001b[0m\u001b[0;36m1\u001b[0m\u001b[0;34m,\u001b[0m\u001b[0;36m33\u001b[0m\u001b[0;34m,\u001b[0m\u001b[0;34m-\u001b[0m\u001b[0;36m50\u001b[0m\u001b[0;34m)\u001b[0m\u001b[0;34m)\u001b[0m\u001b[0;34m\u001b[0m\u001b[0;34m\u001b[0m\u001b[0m\n\u001b[0m",
            "\u001b[0;32m<ipython-input-56-8fbea48a8bf5>\u001b[0m in \u001b[0;36mhorario_em_segundos\u001b[0;34m(h, m, s)\u001b[0m\n\u001b[1;32m      1\u001b[0m \u001b[0;32mdef\u001b[0m \u001b[0mhorario_em_segundos\u001b[0m\u001b[0;34m(\u001b[0m\u001b[0mh\u001b[0m\u001b[0;34m,\u001b[0m \u001b[0mm\u001b[0m\u001b[0;34m,\u001b[0m \u001b[0ms\u001b[0m\u001b[0;34m)\u001b[0m\u001b[0;34m:\u001b[0m\u001b[0;34m\u001b[0m\u001b[0;34m\u001b[0m\u001b[0m\n\u001b[0;32m----> 2\u001b[0;31m     \u001b[0;32massert\u001b[0m \u001b[0mh\u001b[0m \u001b[0;34m>=\u001b[0m \u001b[0;36m0\u001b[0m \u001b[0;32mand\u001b[0m \u001b[0mm\u001b[0m \u001b[0;34m>=\u001b[0m \u001b[0;36m0\u001b[0m \u001b[0;32mand\u001b[0m \u001b[0ms\u001b[0m \u001b[0;34m>=\u001b[0m \u001b[0;36m0\u001b[0m\u001b[0;34m\u001b[0m\u001b[0;34m\u001b[0m\u001b[0m\n\u001b[0m\u001b[1;32m      3\u001b[0m     \u001b[0;32mreturn\u001b[0m \u001b[0mh\u001b[0m \u001b[0;34m*\u001b[0m \u001b[0;36m3600\u001b[0m \u001b[0;34m+\u001b[0m \u001b[0mm\u001b[0m \u001b[0;34m*\u001b[0m \u001b[0;36m60\u001b[0m \u001b[0;34m+\u001b[0m \u001b[0ms\u001b[0m\u001b[0;34m\u001b[0m\u001b[0;34m\u001b[0m\u001b[0m\n\u001b[1;32m      4\u001b[0m \u001b[0;31m######\u001b[0m\u001b[0;34m\u001b[0m\u001b[0;34m\u001b[0m\u001b[0m\n",
            "\u001b[0;31mAssertionError\u001b[0m: "
          ]
        }
      ]
    },
    {
      "cell_type": "code",
      "source": [
        "print(horario_em_segundos (10,-10,34))"
      ],
      "metadata": {
        "colab": {
          "base_uri": "https://localhost:8080/",
          "height": 290
        },
        "id": "aoGJiJqY7_KU",
        "outputId": "ccdf9a4c-c2ed-460c-c787-6d7d79882b6f"
      },
      "execution_count": 60,
      "outputs": [
        {
          "output_type": "error",
          "ename": "AssertionError",
          "evalue": "",
          "traceback": [
            "\u001b[0;31m---------------------------------------------------------------------------\u001b[0m",
            "\u001b[0;31mAssertionError\u001b[0m                            Traceback (most recent call last)",
            "\u001b[0;32m<ipython-input-60-400729170fae>\u001b[0m in \u001b[0;36m<cell line: 1>\u001b[0;34m()\u001b[0m\n\u001b[0;32m----> 1\u001b[0;31m \u001b[0mprint\u001b[0m\u001b[0;34m(\u001b[0m\u001b[0mhorario_em_segundos\u001b[0m \u001b[0;34m(\u001b[0m\u001b[0;36m10\u001b[0m\u001b[0;34m,\u001b[0m\u001b[0;34m-\u001b[0m\u001b[0;36m10\u001b[0m\u001b[0;34m,\u001b[0m\u001b[0;36m34\u001b[0m\u001b[0;34m)\u001b[0m\u001b[0;34m)\u001b[0m\u001b[0;34m\u001b[0m\u001b[0;34m\u001b[0m\u001b[0m\n\u001b[0m",
            "\u001b[0;32m<ipython-input-56-8fbea48a8bf5>\u001b[0m in \u001b[0;36mhorario_em_segundos\u001b[0;34m(h, m, s)\u001b[0m\n\u001b[1;32m      1\u001b[0m \u001b[0;32mdef\u001b[0m \u001b[0mhorario_em_segundos\u001b[0m\u001b[0;34m(\u001b[0m\u001b[0mh\u001b[0m\u001b[0;34m,\u001b[0m \u001b[0mm\u001b[0m\u001b[0;34m,\u001b[0m \u001b[0ms\u001b[0m\u001b[0;34m)\u001b[0m\u001b[0;34m:\u001b[0m\u001b[0;34m\u001b[0m\u001b[0;34m\u001b[0m\u001b[0m\n\u001b[0;32m----> 2\u001b[0;31m     \u001b[0;32massert\u001b[0m \u001b[0mh\u001b[0m \u001b[0;34m>=\u001b[0m \u001b[0;36m0\u001b[0m \u001b[0;32mand\u001b[0m \u001b[0mm\u001b[0m \u001b[0;34m>=\u001b[0m \u001b[0;36m0\u001b[0m \u001b[0;32mand\u001b[0m \u001b[0ms\u001b[0m \u001b[0;34m>=\u001b[0m \u001b[0;36m0\u001b[0m\u001b[0;34m\u001b[0m\u001b[0;34m\u001b[0m\u001b[0m\n\u001b[0m\u001b[1;32m      3\u001b[0m     \u001b[0;32mreturn\u001b[0m \u001b[0mh\u001b[0m \u001b[0;34m*\u001b[0m \u001b[0;36m3600\u001b[0m \u001b[0;34m+\u001b[0m \u001b[0mm\u001b[0m \u001b[0;34m*\u001b[0m \u001b[0;36m60\u001b[0m \u001b[0;34m+\u001b[0m \u001b[0ms\u001b[0m\u001b[0;34m\u001b[0m\u001b[0;34m\u001b[0m\u001b[0m\n\u001b[1;32m      4\u001b[0m \u001b[0;31m######\u001b[0m\u001b[0;34m\u001b[0m\u001b[0;34m\u001b[0m\u001b[0m\n",
            "\u001b[0;31mAssertionError\u001b[0m: "
          ]
        }
      ]
    },
    {
      "cell_type": "code",
      "source": [
        "print(horario_em_segundos(1,2,3))"
      ],
      "metadata": {
        "colab": {
          "base_uri": "https://localhost:8080/"
        },
        "id": "ZVnLq5_e8CVm",
        "outputId": "d26b9663-73b0-4f7c-acdf-615258add5f4"
      },
      "execution_count": 61,
      "outputs": [
        {
          "output_type": "stream",
          "name": "stdout",
          "text": [
            "3723\n"
          ]
        }
      ]
    },
    {
      "cell_type": "markdown",
      "source": [
        "Modulos em Python\n",
        "\n",
        "* arquivos com extensão .py contendo\n",
        "- definições\n",
        "-comandos (statements)\n",
        "\n",
        "* um modulo pode ser importado por outro utilizando o comando import\n",
        "\n",
        "* o nome do módulo (nome do arquivo sem a extensão .py) fica disponível na variável \"__ name __'."
      ],
      "metadata": {
        "id": "DFQItUeJIRSm"
      }
    },
    {
      "cell_type": "markdown",
      "source": [
        "EXEMPLO:\n"
      ],
      "metadata": {
        "id": "xUJMhIolL8Mx"
      }
    },
    {
      "cell_type": "code",
      "source": [
        "def fib(n):\n",
        "    a, b = 0, 1\n",
        "    while b < n:\n",
        "        print(b, end = ' ')\n",
        "        a, b = b, a + b\n",
        "    print()\n",
        "\n",
        "\n",
        "def fib2(n):\n",
        "    result = []\n",
        "    a, b = 0,1\n",
        "    while b < n:\n",
        "        result.append(b)\n",
        "        a, b = b, a + b\n",
        "    return result"
      ],
      "metadata": {
        "id": "4fMWzz4H8EyZ"
      },
      "execution_count": 62,
      "outputs": []
    },
    {
      "cell_type": "code",
      "source": [],
      "metadata": {
        "id": "gIX3QoeYNKv0"
      },
      "execution_count": null,
      "outputs": []
    }
  ],
  "metadata": {
    "colab": {
      "provenance": [],
      "authorship_tag": "ABX9TyOJuRTWgGlXWjobQMgHFDfN",
      "include_colab_link": true
    },
    "kernelspec": {
      "display_name": "Python 3",
      "name": "python3"
    },
    "language_info": {
      "name": "python"
    }
  },
  "nbformat": 4,
  "nbformat_minor": 0
}