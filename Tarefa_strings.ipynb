{
  "nbformat": 4,
  "nbformat_minor": 0,
  "metadata": {
    "colab": {
      "provenance": [],
      "authorship_tag": "ABX9TyNoRKfmi1w9nDp/9VENPWd0",
      "include_colab_link": true
    },
    "kernelspec": {
      "name": "python3",
      "display_name": "Python 3"
    },
    "language_info": {
      "name": "python"
    }
  },
  "cells": [
    {
      "cell_type": "markdown",
      "metadata": {
        "id": "view-in-github",
        "colab_type": "text"
      },
      "source": [
        "<a href=\"https://colab.research.google.com/github/Latamila/USP_Python_2/blob/main/Tarefa_strings.ipynb\" target=\"_parent\"><img src=\"https://colab.research.google.com/assets/colab-badge.svg\" alt=\"Open In Colab\"/></a>"
      ]
    },
    {
      "cell_type": "markdown",
      "source": [
        "Escreva a função maiusculas(frase) que recebe uma frase (uma string) como parâmetro e devolve uma string com as letras maiúsculas que existem nesta frase, na ordem em que elas aparecem.\n",
        "\n",
        "Para resolver este exercício, pode ser útil verificar uma tabela ASCII, que contém os valores de cada caractere. Ver https://pt.wikipedia.org/wiki/ASCII\n",
        "\n",
        "Note que para simplificar a solução do exercício, as frases passadas para a sua função não possuirão caracteres que não estejam presentes na tabela ASCII apresentada, como ç, á, É, ã, etc.\n",
        "\n",
        "Dica: Os valores apresentados na tabela são os mesmos devolvidos pela função ord apresentada nas aulas."
      ],
      "metadata": {
        "id": "LuyeSEJJSjvm"
      }
    },
    {
      "cell_type": "markdown",
      "source": [
        "#ASCII"
      ],
      "metadata": {
        "id": "p0af76LLSzO1"
      }
    },
    {
      "cell_type": "markdown",
      "source": [
        "Código Padrão Americano para o Intercâmbio de Informação (do inglês American Standard Code for Information Interchange - ASCII, pronunciado [áski]) é um sistema de representação de letras, algarismos e sinais de pontuação e de controle, através de um sinal codificado em forma de código binário (cadeias de bits formada por vários 0 e 1), desenvolvido a partir de 1960, que representa um conjunto de 128 sinais: 95 sinais gráficos (letras do alfabeto latino, algarismos arábicos, sinais de pontuação e sinais matemáticos) e 33 sinais de controle, utilizando 7 bits para representar todos os seus símbolos.[1]\n",
        "\n"
      ],
      "metadata": {
        "id": "XvtFqzTOS1Go"
      }
    },
    {
      "cell_type": "markdown",
      "source": [
        "Note que como cada byte possui 8 bits, o bit não utilizado pela tabela ASCII pode ser utilizado de formas diferentes. Por exemplo, o padrão UTF-8 utiliza o bit excedente do primeiro byte para indicar que o Code point tem um valor que excede os valores da tabela ASCII (acima de 127) e necessitará de mais bytes para ser representado. Já a Microsoft utilizou este bit excedente para codificação de caracteres adicionais no Windows Code Page. Outra utilização do bit excedente é informar a paridade em transmissões assíncronas de baixa velocidade. ."
      ],
      "metadata": {
        "id": "Yi2dVdjVTcWX"
      }
    },
    {
      "cell_type": "markdown",
      "source": [
        "Os sinais não-imprimíveis, conhecidos como caracteres de controle, são amplamente utilizados em dispositivos de comunicação e afetam o processamento do texto."
      ],
      "metadata": {
        "id": "Y4oLDLW0UKBf"
      }
    },
    {
      "cell_type": "markdown",
      "source": [
        "# As letras maiusculas são pontuadas do 65 a 90 e as letras minúsculas são pontuadas do 97 a 122."
      ],
      "metadata": {
        "id": "MiKm3pJXUgls"
      }
    },
    {
      "cell_type": "markdown",
      "source": [
        "Escreva a função maiusculas(frase) que recebe uma frase (uma string) como parâmetro e devolve uma string com as letras maiúsculas que existem nesta frase, na ordem em que elas aparecem.\n",
        "\n",
        "Para resolver este exercício, pode ser útil verificar uma tabela ASCII, que contém os valores de cada caractere. Ver https://pt.wikipedia.org/wiki/ASCII\n",
        "\n",
        "Note que para simplificar a solução do exercício, as frases passadas para a sua função não possuirão caracteres que não estejam presentes na tabela ASCII apresentada, como ç, á, É, ã, etc.\n",
        "\n",
        "Dica: Os valores apresentados na tabela são os mesmos devolvidos pela função ord apresentada nas aulas.\n",
        "\n"
      ],
      "metadata": {
        "id": "sh13YVQ7Uhs0"
      }
    },
    {
      "cell_type": "code",
      "source": [
        "'''\n",
        "escreva uma função maiusculas(frase)\n",
        "'''\n",
        "def maiusculas(string):\n",
        "    caracteres = ''\n",
        "    for i in string:\n",
        "        if ord(i) >=65 and ord(i) <= 90:\n",
        "            caracteres = caracteres + i\n",
        "    return caracteres #com as letras maiusculas que existem\n",
        "    #na frase, na ordem que aparecem.\n",
        "\n",
        "frase = 'Programamos em python 3'\n",
        "print(maiusculas(frase))\n",
        "print(maiusculas('Programamos em Python 3'))\n",
        "print(maiusculas('PrOgRaMaMoS em Python'))"
      ],
      "metadata": {
        "colab": {
          "base_uri": "https://localhost:8080/"
        },
        "id": "1CLv8kTOUiML",
        "outputId": "04d8dae7-fd75-4a9b-e22a-6ca2598688cf"
      },
      "execution_count": 3,
      "outputs": [
        {
          "output_type": "stream",
          "name": "stdout",
          "text": [
            "P\n",
            "PP\n",
            "PORMMSP\n"
          ]
        }
      ]
    },
    {
      "cell_type": "markdown",
      "source": [
        "#Exercício 2: Menor nome\n",
        "Como pedido no primeiro vídeo desta semana, escreva uma função menor_nome(nomes) que recebe uma lista de strings com nome de pessoas como parâmetro e devolve o nome mais curto presente na lista.\n",
        "\n",
        "A função deve ignorar espaços antes e depois do nome e deve devolver o menor nome presente na lista. Este nome deve ser devolvido com a primeira letra maiúscula e seus demais caracteres minúsculos, independente de como tenha sido apresentado na lista passada para a função.\n",
        "\n",
        "Quando houver mais de um nome com o menor comprimento dentre os nomes na lista, a função deve devolver o primeiro nome com o menor comprimento presente na lista."
      ],
      "metadata": {
        "id": "BfEr9mI1Uiz5"
      }
    },
    {
      "cell_type": "code",
      "source": [
        "'''\n",
        "escreva uma função menor_nome(nomes)\n",
        "\n",
        "devolve o nome mais curto presente na lista.\n",
        "\n",
        "deve ignorar espaços antes e depois do nome (com função strip)\n",
        "\n",
        "nome deve ser devolvido com a primeira letra maiuscula, apenas.\n",
        "\n",
        "quando houver mais de um nome com o menor comprimento, deve\n",
        "devolver o primeiro nome com o menor comprimento presente na lista.\n",
        "(talvez criar uma nova lista e returna a posição 0 para retornar o primeiro.)\n",
        "'''\n",
        "def menor_nome(list):\n",
        "    nova_lista = []\n",
        "    comp_repetido = []\n",
        "    nome_curto = list[0]\n",
        "    for i in range(len(list)):\n",
        "        nome = list[i].strip()\n",
        "        nome = nome.capitalize()\n",
        "        if len(nome) == len(nome_curto):\n",
        "            comp_repetido.append(nome)\n",
        "        elif len(nome) < len(nome_curto):\n",
        "            nome_curto = nome\n",
        "            nova_lista.append(str(nome))\n",
        "    for i in range(len(nova_lista)-1):\n",
        "        if len(nova_lista[i]) > len(nova_lista[i+1]):\n",
        "            nova_lista.remove(nova_lista[i])\n",
        "    nova_lista = ', '.join(nova_lista)\n",
        "\n",
        "    return nova_lista\n",
        "\n",
        "\n",
        "lista= ['camila','ALEX','mateus','jonas','ANA','aNA']\n",
        "menor_nome(lista)"
      ],
      "metadata": {
        "colab": {
          "base_uri": "https://localhost:8080/",
          "height": 36
        },
        "id": "LCpkxzdWUjSn",
        "outputId": "749a485c-4d48-4657-9a01-ea3b5fa6d816"
      },
      "execution_count": 79,
      "outputs": [
        {
          "output_type": "execute_result",
          "data": {
            "text/plain": [
              "'Ana'"
            ],
            "application/vnd.google.colaboratory.intrinsic+json": {
              "type": "string"
            }
          },
          "metadata": {},
          "execution_count": 79
        }
      ]
    },
    {
      "cell_type": "code",
      "source": [
        "menor_nome(['  amanda', 'ana  ', 'joao'])"
      ],
      "metadata": {
        "colab": {
          "base_uri": "https://localhost:8080/",
          "height": 36
        },
        "id": "nAUn9oiJg_Ua",
        "outputId": "7fe643c3-38d9-4b7b-e2eb-fdabe595eeba"
      },
      "execution_count": 80,
      "outputs": [
        {
          "output_type": "execute_result",
          "data": {
            "text/plain": [
              "'Ana'"
            ],
            "application/vnd.google.colaboratory.intrinsic+json": {
              "type": "string"
            }
          },
          "metadata": {},
          "execution_count": 80
        }
      ]
    },
    {
      "cell_type": "code",
      "source": [
        "menor_nome(['otavio', 'clara','alvaro', 'matias','aparecida','washington'])"
      ],
      "metadata": {
        "colab": {
          "base_uri": "https://localhost:8080/",
          "height": 36
        },
        "id": "PDy4mVaKpWim",
        "outputId": "7d9444bb-b24f-4df5-9d6d-436a4a247f4f"
      },
      "execution_count": 81,
      "outputs": [
        {
          "output_type": "execute_result",
          "data": {
            "text/plain": [
              "'Clara'"
            ],
            "application/vnd.google.colaboratory.intrinsic+json": {
              "type": "string"
            }
          },
          "metadata": {},
          "execution_count": 81
        }
      ]
    },
    {
      "cell_type": "markdown",
      "source": [
        "#EXERCICIOS ADICIONAIS"
      ],
      "metadata": {
        "id": "WRYL_Cfdu0eG"
      }
    },
    {
      "cell_type": "markdown",
      "source": [
        "Exercício 1: Contando vogais ou consoantes\n",
        "Escreva a função conta_letras(frase, contar=\"vogais\"), que recebe como primeiro parâmetro uma string contendo uma frase e como segundo parâmetro uma outra string. Este segundo parâmetro deve ser opcional.\n",
        "\n",
        "Quando o segundo parâmetro for definido como \"vogais\", a função deve devolver o numero de vogais presentes na frase. Quando ele for definido como \"consoantes\", a função deve devolver o número de consoantes presentes na frase. Se este parâmetro não for passado para a função, deve-se assumir o valor \"vogais\" para o parâmetro.\n",
        "\n"
      ],
      "metadata": {
        "id": "Be8uceJ_5jLM"
      }
    },
    {
      "cell_type": "code",
      "source": [
        "'''\n",
        "contar vogais ou consoantes\n",
        "\n",
        "escrever a função conta_letras(frase, contar='vogais')\n",
        "\n",
        "primeiro parametro: uma string contendo uma frase\n",
        "segundo parametro: uma outra string(opcional com valor padronizado)\n",
        "\n",
        "se o usuario nao passar o segundo parametro, a função deve devolver\n",
        "o numero de vogais. Caso passe 'consoantes', a função deve devolver\n",
        "o numero de consoantes.\n",
        "\n",
        "'''\n",
        "\n",
        "def vogais(str):\n",
        "    if str == 'a' or str == 'A' or str == 'e' or str == 'e' or str == 'E' or str == 'i' or str == 'I' or str == 'o' or str == 'O' or str == 'u' or str == 'U':\n",
        "        return True\n",
        "\n",
        "\n",
        "def conta_letras(frase, contar='vogais'):\n",
        "    numero_vogais = 0\n",
        "    numero_consoantes = 0\n",
        "    numero_simbolos = 0\n",
        "    for i in range(len(frase)):\n",
        "        v = vogais(frase[i])\n",
        "        if v == True:\n",
        "            numero_vogais += 1\n",
        "        elif frase[i].find(' ') != -1:\n",
        "            numero_simbolos += 1\n",
        "        else:\n",
        "            numero_consoantes += 1\n",
        "    if contar == 'consoantes':\n",
        "        return numero_consoantes\n",
        "    else:\n",
        "        return numero_vogais\n",
        "\n",
        "frase = 'Abraços Fraternos'\n",
        "conta_letras(frase)"
      ],
      "metadata": {
        "colab": {
          "base_uri": "https://localhost:8080/"
        },
        "id": "SLjjN-V__peo",
        "outputId": "b2299269-aa70-4a82-9eca-87ecf50c35b1"
      },
      "execution_count": 117,
      "outputs": [
        {
          "output_type": "execute_result",
          "data": {
            "text/plain": [
              "6"
            ]
          },
          "metadata": {},
          "execution_count": 117
        }
      ]
    },
    {
      "cell_type": "code",
      "source": [
        "frase = ''.join(frase)\n",
        "print(frase)"
      ],
      "metadata": {
        "colab": {
          "base_uri": "https://localhost:8080/"
        },
        "id": "3Fz98NhdFDZf",
        "outputId": "cc2244fa-64e3-41bf-8e6c-32ca60ce3dd2"
      },
      "execution_count": 118,
      "outputs": [
        {
          "output_type": "stream",
          "name": "stdout",
          "text": [
            "Abraços Fraternos\n"
          ]
        }
      ]
    },
    {
      "cell_type": "code",
      "source": [
        "conta_letras('programamos em python')"
      ],
      "metadata": {
        "colab": {
          "base_uri": "https://localhost:8080/"
        },
        "id": "4ltOcbKHA7Ap",
        "outputId": "4d3f83a2-f405-402f-9841-10be2e8391d7"
      },
      "execution_count": 119,
      "outputs": [
        {
          "output_type": "execute_result",
          "data": {
            "text/plain": [
              "6"
            ]
          },
          "metadata": {},
          "execution_count": 119
        }
      ]
    },
    {
      "cell_type": "code",
      "source": [
        "conta_letras('programamos em python', 'vogais')"
      ],
      "metadata": {
        "colab": {
          "base_uri": "https://localhost:8080/"
        },
        "id": "17mKFA_DA_My",
        "outputId": "224b42a3-f93d-4922-e0f6-5bbeb6c216cc"
      },
      "execution_count": 120,
      "outputs": [
        {
          "output_type": "execute_result",
          "data": {
            "text/plain": [
              "6"
            ]
          },
          "metadata": {},
          "execution_count": 120
        }
      ]
    },
    {
      "cell_type": "code",
      "source": [
        "conta_letras('programamos em python', 'consoantes')"
      ],
      "metadata": {
        "colab": {
          "base_uri": "https://localhost:8080/"
        },
        "id": "YUY08caDCqBR",
        "outputId": "5b68fe69-7508-4411-bd8c-3c12e81dd02f"
      },
      "execution_count": 121,
      "outputs": [
        {
          "output_type": "execute_result",
          "data": {
            "text/plain": [
              "13"
            ]
          },
          "metadata": {},
          "execution_count": 121
        }
      ]
    },
    {
      "cell_type": "markdown",
      "source": [
        "#Exercício 2: Ordem lexicográfica\n",
        "Como pedido no segundo vídeo da semana, escreva a função primeiro_lex(lista) que recebe uma lista de strings como parâmetro e devolve o primeiro string na ordem lexicográfica. Neste exercício, considere letras maiúsculas e minúsculas."
      ],
      "metadata": {
        "id": "W1sW0KRIEwjN"
      }
    },
    {
      "cell_type": "code",
      "source": [
        "'''\n",
        "escreva a função primeiro_lex(lista)\n",
        "\n",
        "devolve o primeiro string na ordem lexicográfica.\n",
        "\n",
        "considere letras maiusculas e minusculas.\n",
        "'''\n",
        "\n",
        "def primeiro_lex(list):\n",
        "    string = []\n",
        "    minusculas = []\n",
        "    for i in range(len(list)):\n",
        "        for j in range(len(list[i])):\n",
        "            if ord(list[i][j]) >=65 and ord(list[i][j]) <= 90:\n",
        "                string.append(list[i])\n",
        "            else:\n",
        "                minusculas.append(list[i])\n",
        "    string = sorted(string)\n",
        "\n",
        "    if string == []:\n",
        "        minuscula = sorted(minusculas)\n",
        "        return minuscula[0]\n",
        "    else:\n",
        "        return string[0]"
      ],
      "metadata": {
        "id": "mOjgXwQQKYix"
      },
      "execution_count": 169,
      "outputs": []
    },
    {
      "cell_type": "code",
      "source": [
        "lista = ['oĺá', 'PAULO', 'a', 'casa','Catarina']\n",
        "primeiro_lex(lista)\n"
      ],
      "metadata": {
        "colab": {
          "base_uri": "https://localhost:8080/",
          "height": 36
        },
        "id": "dB0SgY0rNKV8",
        "outputId": "07214638-f45e-4b39-901e-e626bea73f21"
      },
      "execution_count": 170,
      "outputs": [
        {
          "output_type": "execute_result",
          "data": {
            "text/plain": [
              "'Catarina'"
            ],
            "application/vnd.google.colaboratory.intrinsic+json": {
              "type": "string"
            }
          },
          "metadata": {},
          "execution_count": 170
        }
      ]
    },
    {
      "cell_type": "code",
      "source": [
        "primeiro_lex(['ze','lu','fe'])"
      ],
      "metadata": {
        "colab": {
          "base_uri": "https://localhost:8080/",
          "height": 36
        },
        "id": "wCCJ-aJJOSlF",
        "outputId": "32530634-2554-45a6-8907-e7052e71087b"
      },
      "execution_count": 171,
      "outputs": [
        {
          "output_type": "execute_result",
          "data": {
            "text/plain": [
              "'fe'"
            ],
            "application/vnd.google.colaboratory.intrinsic+json": {
              "type": "string"
            }
          },
          "metadata": {},
          "execution_count": 171
        }
      ]
    },
    {
      "cell_type": "code",
      "source": [
        "primeiro_lex(['ave','B','c','A'])"
      ],
      "metadata": {
        "colab": {
          "base_uri": "https://localhost:8080/",
          "height": 36
        },
        "id": "OGKITZ2RQxte",
        "outputId": "e8f6e1d5-1734-4a6a-b83d-28c31f69a0c7"
      },
      "execution_count": 172,
      "outputs": [
        {
          "output_type": "execute_result",
          "data": {
            "text/plain": [
              "'A'"
            ],
            "application/vnd.google.colaboratory.intrinsic+json": {
              "type": "string"
            }
          },
          "metadata": {},
          "execution_count": 172
        }
      ]
    },
    {
      "cell_type": "code",
      "source": [],
      "metadata": {
        "id": "Yfr7ADkDQ6RT"
      },
      "execution_count": null,
      "outputs": []
    }
  ]
}