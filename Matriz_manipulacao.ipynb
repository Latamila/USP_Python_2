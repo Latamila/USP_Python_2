{
  "nbformat": 4,
  "nbformat_minor": 0,
  "metadata": {
    "colab": {
      "provenance": [],
      "authorship_tag": "ABX9TyNFDEh8n2MZrk1KXec0tsXN",
      "include_colab_link": true
    },
    "kernelspec": {
      "name": "python3",
      "display_name": "Python 3"
    },
    "language_info": {
      "name": "python"
    }
  },
  "cells": [
    {
      "cell_type": "markdown",
      "metadata": {
        "id": "view-in-github",
        "colab_type": "text"
      },
      "source": [
        "<a href=\"https://colab.research.google.com/github/Latamila/USP_Python_2/blob/main/Matriz_manipulacao.ipynb\" target=\"_parent\"><img src=\"https://colab.research.google.com/assets/colab-badge.svg\" alt=\"Open In Colab\"/></a>"
      ]
    },
    {
      "cell_type": "code",
      "source": [
        "matriz = [[1]]"
      ],
      "metadata": {
        "id": "huxtV4Qn20Ij"
      },
      "execution_count": null,
      "outputs": []
    },
    {
      "cell_type": "code",
      "execution_count": null,
      "metadata": {
        "id": "kghIx-Bw1tUe"
      },
      "outputs": [],
      "source": [
        "def dimensoes(matriz):\n",
        "  tam_matriz = (len(matriz), len(matriz[0]))\n",
        "  print('{}X{}'.format(tam_matriz[0], tam_matriz[1]))"
      ]
    },
    {
      "cell_type": "code",
      "source": [
        "dimensoes(matriz)"
      ],
      "metadata": {
        "colab": {
          "base_uri": "https://localhost:8080/"
        },
        "id": "aMYycsv-3hwq",
        "outputId": "ca637b28-5c40-48be-95fc-bb2c352ffab4"
      },
      "execution_count": null,
      "outputs": [
        {
          "output_type": "stream",
          "name": "stdout",
          "text": [
            "1X1\n"
          ]
        }
      ]
    },
    {
      "cell_type": "code",
      "source": [
        "m1 = [[1, 2, 3], [4, 5, 6]]\n",
        "m2 = [[2, 3, 4], [5, 6, 7]]"
      ],
      "metadata": {
        "id": "Uh_dmKdy3n32"
      },
      "execution_count": null,
      "outputs": []
    },
    {
      "cell_type": "code",
      "source": [
        "def soma_matrizes(m1,m2):\n",
        "  if len(m1[0]) != len(m2[0]) or len(m1[1]) != len(m2[1]) or len(m1) == 1:\n",
        "    return False\n",
        "  else:\n",
        "    result = []\n",
        "    for i in range(len(m1)):\n",
        "      result.append([])\n",
        "      for j in range(len(m1[0])):\n",
        "        result[i].append(m1[i][j] + m2[i][j])\n",
        "\n",
        "    return result\n",
        "\n",
        "  '''\n",
        "  escreva uma funçao que recebe 2 matrizes e devolve uma\n",
        "  matriz que represente sua soma caso as matrizes tenham\n",
        "  dimensões iguais. Caso contrario, a função deve retornar\n",
        "  False.\n",
        "  '''"
      ],
      "metadata": {
        "id": "vWoMKvLA72GT"
      },
      "execution_count": null,
      "outputs": []
    },
    {
      "cell_type": "code",
      "source": [
        "soma_matrizes(m1,m2)"
      ],
      "metadata": {
        "colab": {
          "base_uri": "https://localhost:8080/"
        },
        "id": "gMoU0JxF-qdi",
        "outputId": "e2f38530-9c1f-4bcc-80b1-638f0c5081f8"
      },
      "execution_count": null,
      "outputs": [
        {
          "output_type": "execute_result",
          "data": {
            "text/plain": [
              "[[3, 5, 7], [9, 11, 13]]"
            ]
          },
          "metadata": {},
          "execution_count": 25
        }
      ]
    },
    {
      "cell_type": "code",
      "source": [
        "m1 = [[1]]\n",
        "m2 = [[2, 3, 4], [5, 6, 7]]"
      ],
      "metadata": {
        "id": "GtQwwdm1-s2I"
      },
      "execution_count": null,
      "outputs": []
    },
    {
      "cell_type": "code",
      "source": [
        "soma_matrizes(m1,m2)"
      ],
      "metadata": {
        "colab": {
          "base_uri": "https://localhost:8080/"
        },
        "id": "dqC0s6nH9Efw",
        "outputId": "56a7299f-8e8d-485f-825d-99522a1fc43f"
      },
      "execution_count": null,
      "outputs": [
        {
          "output_type": "execute_result",
          "data": {
            "text/plain": [
              "False"
            ]
          },
          "metadata": {},
          "execution_count": 27
        }
      ]
    },
    {
      "cell_type": "code",
      "source": [
        "def cria_matriz(num_linhas, num_colunas,valor):\n",
        "  matriz = [] #lista vazia\n",
        "  for i in range(num_linhas):\n",
        "    #cria a lista i\n",
        "    linha = [] #lista vazia\n",
        "    for j in range(num_colunas):\n",
        "      linha.append(valor)\n",
        "    matriz.append(linha)\n",
        "    #adciona a linha à matriz\n",
        "\n",
        "\n",
        "  return matriz"
      ],
      "metadata": {
        "id": "UE0Sn3H59Gqf"
      },
      "execution_count": null,
      "outputs": []
    },
    {
      "cell_type": "code",
      "source": [
        "cria_matriz(2,3,8)"
      ],
      "metadata": {
        "colab": {
          "base_uri": "https://localhost:8080/"
        },
        "id": "qCjmAh9O-nqh",
        "outputId": "bdeb19bd-a908-432c-d2e1-07405df288da"
      },
      "execution_count": null,
      "outputs": [
        {
          "output_type": "execute_result",
          "data": {
            "text/plain": [
              "[[8, 8, 8], [8, 8, 8]]"
            ]
          },
          "metadata": {},
          "execution_count": 35
        }
      ]
    },
    {
      "cell_type": "code",
      "source": [
        "cria_matriz(5,3,8)"
      ],
      "metadata": {
        "colab": {
          "base_uri": "https://localhost:8080/"
        },
        "id": "caLCo8cb-qKA",
        "outputId": "631debc4-753a-46bc-83da-3eb76f6fd637"
      },
      "execution_count": null,
      "outputs": [
        {
          "output_type": "execute_result",
          "data": {
            "text/plain": [
              "[[8, 8, 8], [8, 8, 8], [8, 8, 8], [8, 8, 8], [8, 8, 8]]"
            ]
          },
          "metadata": {},
          "execution_count": 36
        }
      ]
    },
    {
      "cell_type": "code",
      "source": [
        "cria_matriz(5,8,0)"
      ],
      "metadata": {
        "colab": {
          "base_uri": "https://localhost:8080/"
        },
        "id": "LmYTVYxk_qMj",
        "outputId": "d0fdf7e9-78da-4eed-dc01-24419fa8fda1"
      },
      "execution_count": null,
      "outputs": [
        {
          "output_type": "execute_result",
          "data": {
            "text/plain": [
              "[[0, 0, 0, 0, 0, 0, 0, 0],\n",
              " [0, 0, 0, 0, 0, 0, 0, 0],\n",
              " [0, 0, 0, 0, 0, 0, 0, 0],\n",
              " [0, 0, 0, 0, 0, 0, 0, 0],\n",
              " [0, 0, 0, 0, 0, 0, 0, 0]]"
            ]
          },
          "metadata": {},
          "execution_count": 37
        }
      ]
    },
    {
      "cell_type": "code",
      "source": [
        "def imprime_matriz(matriz):\n",
        "  for linha in matriz:\n",
        "    print(linha)"
      ],
      "metadata": {
        "id": "aq9t0h6h_y8o"
      },
      "execution_count": null,
      "outputs": []
    },
    {
      "cell_type": "code",
      "source": [
        "m1 = [[8, 8, 8], [8, 8, 8], [8, 8, 8], [8, 8, 8], [8, 8, 8]]"
      ],
      "metadata": {
        "id": "80hQz_goAQxB"
      },
      "execution_count": null,
      "outputs": []
    },
    {
      "cell_type": "code",
      "source": [
        "imprime_matriz(m1)"
      ],
      "metadata": {
        "colab": {
          "base_uri": "https://localhost:8080/"
        },
        "id": "c7ZpDY5yAHKr",
        "outputId": "6881c0b7-3643-4653-bc40-b241c4af4f06"
      },
      "execution_count": null,
      "outputs": [
        {
          "output_type": "stream",
          "name": "stdout",
          "text": [
            "[8, 8, 8]\n",
            "[8, 8, 8]\n",
            "[8, 8, 8]\n",
            "[8, 8, 8]\n",
            "[8, 8, 8]\n"
          ]
        }
      ]
    },
    {
      "cell_type": "code",
      "source": [
        "def leia_matriz():\n",
        "    linha = int(input('Digite o número de linhas: '))\n",
        "    coluna = int(input('Digite o número de colunas: '))\n",
        "    matriz = []\n",
        "    for i in range(linha):\n",
        "      linha = []\n",
        "      print(f'matriz = {matriz}')\n",
        "      for j in range(coluna):\n",
        "        print(f'linha {str(i)}= {linha}')\n",
        "        valor = int(input(f'Digite o elemento ({str(i)},{str(j)}): '))\n",
        "        linha.append(valor)\n",
        "      matriz.append(linha)\n",
        "    return matriz\n",
        "\n",
        "a_mat = leia_matriz()\n",
        "print(a_mat)"
      ],
      "metadata": {
        "colab": {
          "base_uri": "https://localhost:8080/"
        },
        "id": "skisbjUHaHmd",
        "outputId": "63cd3e25-ac5b-48de-cfe8-682faa49af8e"
      },
      "execution_count": null,
      "outputs": [
        {
          "output_type": "stream",
          "name": "stdout",
          "text": [
            "Digite o número de linhas: 3\n",
            "Digite o número de colunas: 4\n",
            "matriz = []\n",
            "linha 0= []\n",
            "Digite o elemento (0,0): 1\n",
            "linha 0= [1]\n",
            "Digite o elemento (0,1): 2\n",
            "linha 0= [1, 2]\n",
            "Digite o elemento (0,2): 3\n",
            "linha 0= [1, 2, 3]\n",
            "Digite o elemento (0,3): 4\n",
            "matriz = [[1, 2, 3, 4]]\n",
            "linha 1= []\n",
            "Digite o elemento (1,0): 5\n",
            "linha 1= [5]\n",
            "Digite o elemento (1,1): 6\n",
            "linha 1= [5, 6]\n",
            "Digite o elemento (1,2): 7\n",
            "linha 1= [5, 6, 7]\n",
            "Digite o elemento (1,3): 8\n",
            "matriz = [[1, 2, 3, 4], [5, 6, 7, 8]]\n",
            "linha 2= []\n",
            "Digite o elemento (2,0): 9\n",
            "linha 2= [9]\n",
            "Digite o elemento (2,1): 10\n",
            "linha 2= [9, 10]\n",
            "Digite o elemento (2,2): 11\n",
            "linha 2= [9, 10, 11]\n",
            "Digite o elemento (2,3): 12\n",
            "[[1, 2, 3, 4], [5, 6, 7, 8], [9, 10, 11, 12]]\n"
          ]
        }
      ]
    },
    {
      "cell_type": "code",
      "source": [
        "def cria_matriz(num_linhas, num_colunas):\n",
        "  matriz = [] #lista vazia\n",
        "  for i in range(num_linhas):\n",
        "    #cria a lista i\n",
        "    linha = [] #lista vazia\n",
        "    for j in range(num_colunas):\n",
        "      valor = int(input(f'Digite o elemento [{str(i)}][{str(j)}]: '))\n",
        "      linha.append(valor)\n",
        "    matriz.append(linha)\n",
        "    #adciona a linha à matriz\n",
        "  return matriz"
      ],
      "metadata": {
        "id": "DhaZXW5rA9gd"
      },
      "execution_count": null,
      "outputs": []
    },
    {
      "cell_type": "code",
      "source": [
        "def le_matriz():\n",
        "  linha = int(input('Digite o numero de linhas da matriz: '))\n",
        "  coluna = int(input('Digite o numero de colunas da matriz: '))\n",
        "  matriz = cria_matriz(linha,coluna)\n",
        "  return matriz\n"
      ],
      "metadata": {
        "id": "gbZ2ed1mAMIl"
      },
      "execution_count": null,
      "outputs": []
    },
    {
      "cell_type": "code",
      "source": [
        "le_matriz()"
      ],
      "metadata": {
        "colab": {
          "base_uri": "https://localhost:8080/"
        },
        "id": "xEye3Ly7Bhzt",
        "outputId": "26101246-76d0-4b58-8e63-4ba2f7b3922d"
      },
      "execution_count": null,
      "outputs": [
        {
          "name": "stdout",
          "output_type": "stream",
          "text": [
            "Digite o numero de linhas da matriz: 2\n",
            "Digite o numero de colunas da matriz: 1\n",
            "Digite o elemento [0][0]: 2\n",
            "Digite o elemento [1][0]: 3\n"
          ]
        },
        {
          "output_type": "execute_result",
          "data": {
            "text/plain": [
              "[[2], [3]]"
            ]
          },
          "metadata": {},
          "execution_count": 190
        }
      ]
    },
    {
      "cell_type": "code",
      "source": [
        "le_matriz()"
      ],
      "metadata": {
        "colab": {
          "base_uri": "https://localhost:8080/"
        },
        "id": "atqxhn7HBjO4",
        "outputId": "d274534f-41bf-4592-9d6d-cd78d847ff85"
      },
      "execution_count": null,
      "outputs": [
        {
          "output_type": "stream",
          "name": "stdout",
          "text": [
            "Digite o numero de linhas da matriz: 2\n",
            "Digite o numero de colunas da matriz: 3\n",
            "Digite o elemento [0][0]: 7\n",
            "Digite o elemento [0][1]: 8\n",
            "Digite o elemento [0][2]: 9\n",
            "Digite o elemento [1][0]: 4\n",
            "Digite o elemento [1][1]: 5\n",
            "Digite o elemento [1][2]: 6\n",
            "[7, 8, 9]\n",
            "[4, 5, 6]\n"
          ]
        }
      ]
    },
    {
      "cell_type": "code",
      "source": [
        "'''\n",
        "Recebe e imprime uma matriz de inteiros.\n",
        "\n",
        ">>> a = [[1,2,3],[2,1,4],[3,4,1]]\n",
        "    >>> a\n",
        "    [[1, 2, 3], [2, 1, 4], [3, 4, 1]]\n",
        "    >>> imprima_matriz(a)\n",
        "    Matriz: 3 x 3\n",
        "         1     2     3\n",
        "         2     1     4\n",
        "         3     4     1\n",
        "'''\n",
        "def imprima_matriz(m):\n",
        "  #itera sob as linhas da matriz\n",
        "  for i in range(len(m)):\n",
        "    linha = []#cria uma linha nova a cada iteração\n",
        "    #preenche com valores na coluna correspondente\n",
        "    #ao pegar o valor de len do primeiro elemento 'm[0]'\n",
        "    #de m, saberei quantas colunas tem na matriz.\n",
        "    for j in range(len(m[0])):\n",
        "      linha.append(str(m[i][j]))#mudo tipo para string para usar a função join\n",
        "    print(' '.join(linha))\n",
        "\n",
        "\n",
        "a = [[1,2,3],[2,1,4],[3,4,1]]\n",
        "imprima_matriz(a)"
      ],
      "metadata": {
        "colab": {
          "base_uri": "https://localhost:8080/"
        },
        "id": "V1jR51yXePee",
        "outputId": "b87b0d7a-f10c-4f07-b473-0e481769f773"
      },
      "execution_count": null,
      "outputs": [
        {
          "output_type": "stream",
          "name": "stdout",
          "text": [
            "1 2 3\n",
            "2 1 4\n",
            "3 4 1\n"
          ]
        }
      ]
    },
    {
      "cell_type": "code",
      "source": [
        "'''(matriz) -> bool\n",
        "\n",
        "    Recebe uma matriz e returna True se a matriz for simetrica,\n",
        "    em caso contrario retorna False.\n",
        "\n",
        "    Pre-condicao: a funcao supoe que a matriz e quadrada\n",
        "\n",
        "    >>> a = [[1,2,3],[2,1,4],[3,4,1]]\n",
        "    >>> a\n",
        "    [[1, 2, 3], [2, 1, 4], [3, 4, 1]]\n",
        "    >>> imprima_matriz(a)\n",
        "    Matriz: 3 x 3\n",
        "         1     2     3\n",
        "         2     1     4\n",
        "         3     4     1\n",
        "    >>> simetrica(a)\n",
        "    True\n",
        "'''\n",
        "def simetrica(m):\n",
        "  if len(m) == len(m[0]):\n",
        "    return True\n",
        "  else:\n",
        "    return False\n",
        "\n",
        "\n",
        "a = [[11, -3, 4, 8], [-3, 12, 6, 11], [4, 6, 5, 13], [8, 11, 13, 5]]\n",
        "if simetrica(a):\n",
        "    print(\"Passou no primeiro teste! :-)\")\n",
        "else:\n",
        "    print(\"Nao passou no primeiro teste! :-(\")"
      ],
      "metadata": {
        "colab": {
          "base_uri": "https://localhost:8080/"
        },
        "id": "mb0IvzQIgInV",
        "outputId": "98061282-a2d8-4842-c6b9-9812d6565423"
      },
      "execution_count": null,
      "outputs": [
        {
          "output_type": "stream",
          "name": "stdout",
          "text": [
            "Passou no primeiro teste! :-)\n"
          ]
        }
      ]
    },
    {
      "cell_type": "code",
      "source": [
        "def leia_matriz():\n",
        "  n = int(input('Escolha a dimensão nXn de sua matriz quadrada: '))\n",
        "  linha = n\n",
        "  coluna = n\n",
        "  matriz = cria_matriz(linha,coluna)\n",
        "  return matriz"
      ],
      "metadata": {
        "id": "XzU62uCzjoaQ"
      },
      "execution_count": null,
      "outputs": []
    },
    {
      "cell_type": "code",
      "source": [
        "def main():\n",
        "  m = leia_matriz()\n",
        "\n",
        "  return simetrica(m)\n",
        "'''\n",
        "    Programa que le n e uma matriz de inteiros n x n\n",
        "    e verifica se a matriz e simetrica.\n",
        "'''\n",
        "main()"
      ],
      "metadata": {
        "colab": {
          "base_uri": "https://localhost:8080/"
        },
        "id": "OaU5k1CCjD2S",
        "outputId": "37f246d0-806c-4a32-db6b-0325e03fc2b8"
      },
      "execution_count": null,
      "outputs": [
        {
          "name": "stdout",
          "output_type": "stream",
          "text": [
            "Escolha a dimensão nXn de sua matriz quadrada: 2\n",
            "Digite o elemento [0][0]: 3\n",
            "Digite o elemento [0][1]: 3\n",
            "Digite o elemento [1][0]: 3\n",
            "Digite o elemento [1][1]: 3\n"
          ]
        },
        {
          "output_type": "execute_result",
          "data": {
            "text/plain": [
              "True"
            ]
          },
          "metadata": {},
          "execution_count": 197
        }
      ]
    },
    {
      "cell_type": "code",
      "source": [
        "'''\n",
        "Como proposto na primeira vídeo-aula da semana, escreva uma função\n",
        "imprime_matriz(matriz), que recebe uma matriz como parâmetro e imprime\n",
        " a matriz, linha por linha. Note que NÃO se deve imprimir espaços após\n",
        " o último elemento de cada linha!\n",
        "\n",
        "'''\n",
        "\n",
        "def imprime_matriz1(matriz):\n",
        "  for i in range(len(matriz)):\n",
        "    linha = []\n",
        "    for j in range(len(matriz[0])):\n",
        "      linha.append(str(matriz[i][j]))\n",
        "    print(' '.join(linha))"
      ],
      "metadata": {
        "id": "50W8HrWCCa13"
      },
      "execution_count": null,
      "outputs": []
    },
    {
      "cell_type": "code",
      "source": [
        "m = [[1], [2], [3]]"
      ],
      "metadata": {
        "id": "lncLyug_D7Fs"
      },
      "execution_count": null,
      "outputs": []
    },
    {
      "cell_type": "code",
      "source": [
        "imprime_matriz1(m)"
      ],
      "metadata": {
        "colab": {
          "base_uri": "https://localhost:8080/"
        },
        "id": "xU8zG32DD25z",
        "outputId": "9f5f66f3-9498-464d-ada2-8e939dcc0986"
      },
      "execution_count": null,
      "outputs": [
        {
          "output_type": "stream",
          "name": "stdout",
          "text": [
            "1\n",
            "2\n",
            "3\n"
          ]
        }
      ]
    },
    {
      "cell_type": "code",
      "source": [
        "minha_matriz = [[1, 2, 3], [4, 5, 6]]"
      ],
      "metadata": {
        "id": "339fsGotD-dD"
      },
      "execution_count": null,
      "outputs": []
    },
    {
      "cell_type": "code",
      "source": [
        "imprime_matriz1(minha_matriz)"
      ],
      "metadata": {
        "colab": {
          "base_uri": "https://localhost:8080/"
        },
        "id": "egbNTMelFXmB",
        "outputId": "e57b7cee-59f7-4e72-e8ff-97440047492c"
      },
      "execution_count": null,
      "outputs": [
        {
          "output_type": "stream",
          "name": "stdout",
          "text": [
            "1 2 3\n",
            "4 5 6\n"
          ]
        }
      ]
    },
    {
      "cell_type": "code",
      "source": [
        "m = str(minha_matriz)"
      ],
      "metadata": {
        "id": "rdPpO_p8FZ8E"
      },
      "execution_count": null,
      "outputs": []
    },
    {
      "cell_type": "code",
      "source": [
        "def imprime_outra_matriz(matriz):\n",
        "  for i in range(len(matriz)):\n",
        "    linha = []\n",
        "    for j in range(len(matriz[0])):\n",
        "      linha.append(str(matriz[i][j]))\n",
        "    print(*linha, sep = ' ')\n",
        "\n",
        "  '''\n",
        "  O operador * em Python pode ser usado para descompactar objetos\n",
        "  Ele descompacta todos os elementos de uma lista e os imprime sem\n",
        "  os colchetes.\n",
        "  '''"
      ],
      "metadata": {
        "id": "xheg_heoKTR-"
      },
      "execution_count": null,
      "outputs": []
    },
    {
      "cell_type": "code",
      "source": [
        "imprime_outra_matriz(minha_matriz)"
      ],
      "metadata": {
        "colab": {
          "base_uri": "https://localhost:8080/"
        },
        "id": "GrT2A2IEKj_9",
        "outputId": "44925b04-6555-48b1-8609-87c482bcc1c6"
      },
      "execution_count": null,
      "outputs": [
        {
          "output_type": "stream",
          "name": "stdout",
          "text": [
            "1 2 3\n",
            "4 5 6\n"
          ]
        }
      ]
    },
    {
      "cell_type": "code",
      "source": [
        "'''\n",
        "Duas matrizes são multiplicaveis se o numero de colunas da primeira\n",
        "é igual ao numero de linhas da segunda.\n",
        "escreva a função sao_multiplicaveis(m1,m2) que recebe duas matrizes\n",
        "como parametro e devolve True se as matrizes forem multiplicáveis\n",
        "(na ordem dada) e False caso contrário.\n",
        "'''\n",
        "\n",
        "def sao_multiplicaveis(m1,m2):\n",
        "  if len(m1[0]) == len(m2):\n",
        "    return True\n",
        "  else:\n",
        "    return False"
      ],
      "metadata": {
        "id": "9EtYv25IL6Nh"
      },
      "execution_count": null,
      "outputs": []
    },
    {
      "cell_type": "code",
      "source": [
        "m1 = [[1, 2, 3], [4, 5, 6]]\n",
        "m2 = [[2, 3, 4], [5, 6, 7]]\n",
        "#aqui m1 tem 2 linhas e 3 colunas\n",
        "#aqui m2 tem 2 linhas e 3 colunas\n",
        "#retorna false"
      ],
      "metadata": {
        "id": "9NybzSrxMsRm"
      },
      "execution_count": null,
      "outputs": []
    },
    {
      "cell_type": "code",
      "source": [
        "sao_multiplicaveis(m1,m2)"
      ],
      "metadata": {
        "colab": {
          "base_uri": "https://localhost:8080/"
        },
        "id": "ja2H-Gt5My0Z",
        "outputId": "075b6617-ec73-4762-b8e0-cd9e2773522f"
      },
      "execution_count": null,
      "outputs": [
        {
          "output_type": "execute_result",
          "data": {
            "text/plain": [
              "False"
            ]
          },
          "metadata": {},
          "execution_count": 139
        }
      ]
    },
    {
      "cell_type": "code",
      "source": [
        "m1 = [[1], [2], [3]]\n",
        "m2 = [[1, 2, 3]]"
      ],
      "metadata": {
        "id": "CTVdXjqPM17E"
      },
      "execution_count": null,
      "outputs": []
    },
    {
      "cell_type": "code",
      "source": [
        "sao_multiplicaveis(m1,m2)"
      ],
      "metadata": {
        "colab": {
          "base_uri": "https://localhost:8080/"
        },
        "id": "vt3G287KNATR",
        "outputId": "78a05bbe-eca3-4659-d2c1-33407bb9bfc5"
      },
      "execution_count": null,
      "outputs": [
        {
          "output_type": "execute_result",
          "data": {
            "text/plain": [
              "True"
            ]
          },
          "metadata": {},
          "execution_count": 141
        }
      ]
    },
    {
      "cell_type": "code",
      "source": [
        "def main():\n",
        "  a = [0,1,2,3,4]\n",
        "  b = a # b será um apelido para a\n",
        "  b[1]=7\n",
        "  print(f'a = {a}')\n",
        "  print(f'b = {b}')"
      ],
      "metadata": {
        "id": "lt38CnnsNC8d"
      },
      "execution_count": null,
      "outputs": []
    },
    {
      "cell_type": "code",
      "source": [
        "main()"
      ],
      "metadata": {
        "colab": {
          "base_uri": "https://localhost:8080/"
        },
        "id": "h7Kopj4AP3Xa",
        "outputId": "34772a26-992c-4209-f3c4-22ac98d1c60b"
      },
      "execution_count": null,
      "outputs": [
        {
          "output_type": "stream",
          "name": "stdout",
          "text": [
            "a = [0, 7, 2, 3, 4]\n",
            "b = [0, 7, 2, 3, 4]\n"
          ]
        }
      ]
    },
    {
      "cell_type": "markdown",
      "source": [
        "o código acima b é uma referência ou apelido (= alias) para a mesma lista a que a está se referenciando.\n",
        "\n",
        "O trecho de código a seguir cria um cópia (= clone) de a e b será uma referência a essa cópia.\n"
      ],
      "metadata": {
        "id": "GNFkl54CP_9s"
      }
    },
    {
      "cell_type": "code",
      "source": [
        "def main():\n",
        "  a = [0,1,2,3,4]\n",
        "  b = a[:] # b será um apelido para a\n",
        "  b[1]=7\n",
        "  print(f'a = {a}')\n",
        "  print(f'b = {b}')\n",
        "\n",
        "main()"
      ],
      "metadata": {
        "colab": {
          "base_uri": "https://localhost:8080/"
        },
        "id": "8o73-Qp8QHdn",
        "outputId": "3b9c61af-162d-4cd2-ce3c-ff77efd25080"
      },
      "execution_count": null,
      "outputs": [
        {
          "output_type": "stream",
          "name": "stdout",
          "text": [
            "a = [0, 1, 2, 3, 4]\n",
            "b = [0, 7, 2, 3, 4]\n"
          ]
        }
      ]
    },
    {
      "cell_type": "markdown",
      "source": [
        "A fatia a[:] é uma cópia de a, uma fatia com todos os elementos de a.\n",
        "\n",
        "Lembre-se que o ':' é utilizado para definir uma fatia da lista. Por exemplo, a [1:3] produz a lista [1,2]."
      ],
      "metadata": {
        "id": "RnQF6HZ6QPP-"
      }
    },
    {
      "cell_type": "markdown",
      "source": [
        "#Criação de matrizes\n",
        "\n",
        "Matrizes são estruturas bidimensionais (tabelas) com m linhas por n colunas muito importantes na matemática, utilizadas por exemplo para a resolução de sistemas de equações e transformações lineares.\n",
        "\n",
        "Em Python, uma matriz pode ser representada como uma lista de listas, onde um elemento da lista contém uma linha da matriz, que por sua vez corresponde a uma lista com os elementos da coluna da matriz.\n",
        "\n"
      ],
      "metadata": {
        "id": "0Q4h7GRUQe9S"
      }
    },
    {
      "cell_type": "markdown",
      "source": [
        "![image.png](data:image/png;base64,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)"
      ],
      "metadata": {
        "id": "MIcMRJn9QzrO"
      }
    },
    {
      "cell_type": "markdown",
      "source": [
        "Qual o problema do seguinte pedaço de código para criação de uma matriz A com 5 linhas e 5 colunas com o valor 2 na posição [1][1] e zero nas demais posições?"
      ],
      "metadata": {
        "id": "Rg4ZOnhQRFyL"
      }
    },
    {
      "cell_type": "code",
      "source": [
        "linha_com_zeros = [0]*5\n",
        "print(linha_com_zeros)\n",
        "A = [linha_com_zeros] * 5\n",
        "print(A)"
      ],
      "metadata": {
        "colab": {
          "base_uri": "https://localhost:8080/"
        },
        "id": "0Iybv9HFQJjL",
        "outputId": "3448950f-5290-47e7-9a8f-0ba07417b356"
      },
      "execution_count": null,
      "outputs": [
        {
          "output_type": "stream",
          "name": "stdout",
          "text": [
            "[0, 0, 0, 0, 0]\n",
            "[[0, 0, 0, 0, 0], [0, 0, 0, 0, 0], [0, 0, 0, 0, 0], [0, 0, 0, 0, 0], [0, 0, 0, 0, 0]]\n"
          ]
        }
      ]
    },
    {
      "cell_type": "code",
      "source": [
        "A[1][1] = 2\n",
        "print(A)"
      ],
      "metadata": {
        "colab": {
          "base_uri": "https://localhost:8080/"
        },
        "id": "y-W8PlijRN3O",
        "outputId": "3bf9a661-43d4-477d-add9-4d7d4f5ba2f2"
      },
      "execution_count": null,
      "outputs": [
        {
          "output_type": "stream",
          "name": "stdout",
          "text": [
            "[[0, 2, 0, 0, 0], [0, 2, 0, 0, 0], [0, 2, 0, 0, 0], [0, 2, 0, 0, 0], [0, 2, 0, 0, 0]]\n"
          ]
        }
      ]
    },
    {
      "cell_type": "markdown",
      "source": [
        "A variável linha_com_zeros contém uma referência à lista [0, 0, 0, 0, 0]. No trecho de código acima, na tentativa de cria uma matriz A, essa mesma referência é copiada 5 vezes. Assim, todas as linhas apontam para a mesma lista!"
      ],
      "metadata": {
        "id": "KtBzDg8VUciS"
      }
    },
    {
      "cell_type": "code",
      "source": [
        "A = []\n",
        "for i in range(5):\n",
        "  A = A + [[0]*5] #cria uma nova lista [0]*5\n",
        "for linha in A:\n",
        "  print(linha)"
      ],
      "metadata": {
        "colab": {
          "base_uri": "https://localhost:8080/"
        },
        "id": "UzGyhtbpUHup",
        "outputId": "98fb8f81-5761-4f6f-c320-5b7b85d12c21"
      },
      "execution_count": null,
      "outputs": [
        {
          "output_type": "stream",
          "name": "stdout",
          "text": [
            "[0, 0, 0, 0, 0]\n",
            "[0, 0, 0, 0, 0]\n",
            "[0, 0, 0, 0, 0]\n",
            "[0, 0, 0, 0, 0]\n",
            "[0, 0, 0, 0, 0]\n"
          ]
        }
      ]
    },
    {
      "cell_type": "code",
      "source": [
        "A[1][1] = 2\n",
        "for linha in A:\n",
        "  print(linha)# observe a mudança feita na linha 1 e coluna 1\n",
        "  #isso executu assim porque foi criada uma nova lista"
      ],
      "metadata": {
        "colab": {
          "base_uri": "https://localhost:8080/"
        },
        "id": "bAtKBO6LU6XG",
        "outputId": "e482e70c-80a6-4a46-a789-a0541b1cc8a0"
      },
      "execution_count": null,
      "outputs": [
        {
          "output_type": "stream",
          "name": "stdout",
          "text": [
            "[0, 0, 0, 0, 0]\n",
            "[0, 2, 0, 0, 0]\n",
            "[0, 0, 0, 0, 0]\n",
            "[0, 0, 0, 0, 0]\n",
            "[0, 0, 0, 0, 0]\n"
          ]
        }
      ]
    },
    {
      "cell_type": "code",
      "source": [
        "def crie_matriz_errada(l,c,v):\n",
        "  '''\n",
        "  l = linha\n",
        "  c = coluna\n",
        "  v = valor\n",
        "  '''\n",
        "  matriz = [] #lista vazia\n",
        "  linha = [] #lista vazia\n",
        "  for j in range(c):\n",
        "    linha += [v]\n",
        "  for i in range(l):\n",
        "    #coloque a linha na matriz\n",
        "    matriz += [linha]\n",
        "  return matriz"
      ],
      "metadata": {
        "id": "VjplYdWJVB2q"
      },
      "execution_count": null,
      "outputs": []
    },
    {
      "cell_type": "code",
      "source": [
        "crie_matriz_errada(3,4,0)"
      ],
      "metadata": {
        "colab": {
          "base_uri": "https://localhost:8080/"
        },
        "id": "EMlHBsLIYCex",
        "outputId": "6ba94f7f-0893-4123-97d2-a11f63ebe7d4"
      },
      "execution_count": null,
      "outputs": [
        {
          "output_type": "execute_result",
          "data": {
            "text/plain": [
              "[[0, 0, 0, 0], [0, 0, 0, 0], [0, 0, 0, 0]]"
            ]
          },
          "metadata": {},
          "execution_count": 165
        }
      ]
    },
    {
      "cell_type": "markdown",
      "source": [
        "ESTÁ ERRADA PORQUE NESTA VERSÃO CADA LINHA DA MATRIZ É UM APELIDO DE UMA MESMA LISTA.\n",
        "\n",
        "A MESMA LISTA LINHA FOI REPETIDO 3 VEZES NO SEGUNDO LAÇO."
      ],
      "metadata": {
        "id": "p1ZNpn-BYh7e"
      }
    },
    {
      "cell_type": "code",
      "source": [
        "a = [[0,2,3],[0,5,6]]\n",
        "for num in a:\n",
        "  print(num)"
      ],
      "metadata": {
        "colab": {
          "base_uri": "https://localhost:8080/"
        },
        "id": "-vU8v61ZqsCk",
        "outputId": "4d2d0b5c-e223-44ac-fbe0-d10b1789a61b"
      },
      "execution_count": null,
      "outputs": [
        {
          "output_type": "stream",
          "name": "stdout",
          "text": [
            "[0, 2, 3]\n",
            "[0, 5, 6]\n"
          ]
        }
      ]
    },
    {
      "cell_type": "code",
      "source": [
        "def nulos(m):\n",
        "  linhas_nulas = 0\n",
        "  colunas_nulas = 0\n",
        "  colunas = 0\n",
        "  linhas = 0\n",
        "  for i in range(len(m)):\n",
        "    linhas = 0\n",
        "    for j in range(len(a[0])):\n",
        "      num = m[i][j]\n",
        "      linhas += num\n",
        "    if linhas == 0:\n",
        "      linhas_nulas += 1\n",
        "  print(f'Linhas nulas = {linhas_nulas}')\n",
        "  for j in range(len(m[0])):\n",
        "    colunas = 0\n",
        "    for i in range(len(m)):\n",
        "      num = m[i][j]\n",
        "      colunas += num\n",
        "    if colunas == 0:\n",
        "      colunas_nulas += 1\n",
        "  print(f'Coluns nulas = {colunas_nulas}')\n",
        "\n",
        "\n",
        "nulos(a)"
      ],
      "metadata": {
        "colab": {
          "base_uri": "https://localhost:8080/"
        },
        "id": "xTaAs_L8qYke",
        "outputId": "8499638d-7f3c-4f35-85f6-aa5724b86d3c"
      },
      "execution_count": null,
      "outputs": [
        {
          "output_type": "stream",
          "name": "stdout",
          "text": [
            "Linhas nulas = 0\n",
            "Coluns nulas = 0\n"
          ]
        }
      ]
    },
    {
      "cell_type": "code",
      "source": [
        "def main():\n",
        "  m = int(input('digite o numero de linhas: '))\n",
        "  n = int(input('digite o numero de colunas(diferente do numero de linhas): '))\n",
        "  print(f'Matriz: {m} x {n}')\n",
        "  matriz = cria_matriz(m,n)\n",
        "  imprima_matriz(matriz)\n",
        "  nulos(matriz)\n",
        "\n",
        "main()\n",
        "'''\n",
        "    Escreva um programa que leia inteiros positivos m e n\n",
        "    e os elementos de uma matriz A de números inteiros de dimensão\n",
        "    m x n e conta o número de linhas e colunas que tem apenas zeros.\n",
        "'''"
      ],
      "metadata": {
        "colab": {
          "base_uri": "https://localhost:8080/",
          "height": 309
        },
        "id": "7RNCVeuIYb8O",
        "outputId": "4a1c7ea3-63e9-456b-ca1e-92f1652a5d74"
      },
      "execution_count": null,
      "outputs": [
        {
          "output_type": "stream",
          "name": "stdout",
          "text": [
            "digite o numero de linhas: 2\n",
            "digite o numero de colunas(diferente do numero de linhas): 3\n",
            "Matriz: 2 x 3\n",
            "Digite o elemento [0][0]: 0\n",
            "Digite o elemento [0][1]: 3\n",
            "Digite o elemento [0][2]: 3\n",
            "Digite o elemento [1][0]: 0\n",
            "Digite o elemento [1][1]: 3\n",
            "Digite o elemento [1][2]: 2\n",
            "0 3 3\n",
            "0 3 2\n",
            "Linhas nulas = 0\n",
            "Coluns nulas = 1\n"
          ]
        },
        {
          "output_type": "execute_result",
          "data": {
            "text/plain": [
              "'\\n    Escreva um programa que leia inteiros positivos m e n \\n    e os elementos de uma matriz A de números inteiros de dimensão \\n    m x n e conta o número de linhas e colunas que tem apenas zeros.\\n'"
            ],
            "application/vnd.google.colaboratory.intrinsic+json": {
              "type": "string"
            }
          },
          "metadata": {},
          "execution_count": 223
        }
      ]
    },
    {
      "cell_type": "markdown",
      "source": [
        "'''\n",
        "Duas matrizes são multiplicaveis se o numero de colunas da primeira\n",
        "é igual ao numero de linhas da segunda.\n",
        "escreva a função sao_multiplicaveis(m1,m2) que recebe duas matrizes\n",
        "como parametro e devolve True se as matrizes forem multiplicáveis\n",
        "(na ordem dada) e False caso contrário.\n",
        "'''"
      ],
      "metadata": {
        "id": "9MoVX7TcxciO"
      }
    },
    {
      "cell_type": "code",
      "source": [
        "import numpy as np\n",
        "a = [ [1, 2, -1], [0, 3, 2] ]\n",
        "b = [ [1, -1], [2, 0], [3, 2] ]\n",
        "c = np.matmul(a,b)\n",
        "c = c.tolist()\n",
        "print(type(c))\n",
        "resultado = [ [2, -3], [12, 4] ]\n",
        "print(type(resultado))\n",
        "\n",
        "if c == resultado:\n",
        "  print(True)\n"
      ],
      "metadata": {
        "colab": {
          "base_uri": "https://localhost:8080/"
        },
        "id": "qHhJJrKex5kn",
        "outputId": "c42ae7a5-7b3c-4b31-d368-638259cae649"
      },
      "execution_count": null,
      "outputs": [
        {
          "output_type": "stream",
          "name": "stdout",
          "text": [
            "<class 'list'>\n",
            "<class 'list'>\n",
            "True\n"
          ]
        }
      ]
    },
    {
      "cell_type": "code",
      "source": [
        "mat1 = [[2, 3], [4, 6]]\n",
        "mat2 = [[1, 3, 0], [2, 1, 1]]"
      ],
      "metadata": {
        "id": "ve_-FzlJAg8w"
      },
      "execution_count": null,
      "outputs": []
    },
    {
      "cell_type": "code",
      "source": [
        "import numpy as np\n",
        "def multi_matriz(m1,m2):\n",
        "  a = np.matmul(m1,m2)\n",
        "  return a\n",
        "\n",
        "multi_matriz(mat1,mat2)"
      ],
      "metadata": {
        "colab": {
          "base_uri": "https://localhost:8080/"
        },
        "id": "qUHzjAKgAE-B",
        "outputId": "26f0d52b-d6b0-4140-b677-5e45eb0fe9d2"
      },
      "execution_count": null,
      "outputs": [
        {
          "output_type": "execute_result",
          "data": {
            "text/plain": [
              "array([[ 8,  9,  3],\n",
              "       [16, 18,  6]])"
            ]
          },
          "metadata": {},
          "execution_count": 252
        }
      ]
    },
    {
      "cell_type": "markdown",
      "source": [
        "O work book não permitiu importar biblioteca, então vamos implementar de outra forma."
      ],
      "metadata": {
        "id": "_KNhFWEA7hPF"
      }
    },
    {
      "cell_type": "code",
      "source": [
        "def pega_linha(matriz, n):\n",
        "  return  [i for i in matriz[n]]# ou simplesmente return matriz[n]\n",
        "  #pra pegar todos os numeros da linha n(p.ex, linha 1)\n",
        "\n",
        "def pega_coluna(matriz, n):\n",
        "  return [i[n] for i in matriz]#pegando o numero da coluna 'n'(p.ex coluna 1)\n",
        "\n",
        "\n",
        "def multiplica_matriz(m1,m2):\n",
        "  matriz_resultado = []\n",
        "  matriz1_linha = len(m1)\n",
        "  matriz1_coluna = len(m1[0])\n",
        "\n",
        "  matriz2_linha = len(m2)\n",
        "  matriz2_coluna = len(m2[0])\n",
        "  for i in range(matriz1_linha): #valor de linhas da primeira\n",
        "    matriz_resultado.append([])\n",
        "    for j in range(matriz2_coluna):#valor de colunas da segunda\n",
        "      #multiplica cada linha de mat1 por cada coluna de mat2\n",
        "      lista_mult = [x*y for x,y in zip(pega_linha(m1, i), pega_coluna(m2, j))]\n",
        "      # e em seguida adiciona a matriz_resultado a soma\n",
        "      #das multiplicações\n",
        "\n",
        "      matriz_resultado[i].append(sum(lista_mult))\n",
        "  return matriz_resultado\n",
        "\n",
        "\n",
        "'''(matriz,matriz) -> matriz\n",
        "\n",
        "    Recebe duas matriz a_mat e b_mat e cria e retorna\n",
        "    a matriz produto  de a_mat por b_mat.\n",
        "\n",
        "    Pre-condicao: a funcao supoe que o numero\n",
        "       de coluna de a_mat e igual ao numero de linhas\n",
        "       de b_mat\n",
        "    '''\n",
        "a = [ [1, 2, -1], [0, 3, 2] ]\n",
        "b = [ [1, -1], [2, 0], [3, 2] ]\n",
        "c = multiplica_matriz(a,b)\n",
        "resultado = [ [2, -3], [12, 4] ]\n",
        "print(c)\n",
        "if c == resultado:\n",
        "    print(\"Passou no primeiro teste! :-)\")\n",
        "else:\n",
        "    print(\"Nao passou no primeiro teste! :-(\")\n"
      ],
      "metadata": {
        "colab": {
          "base_uri": "https://localhost:8080/"
        },
        "id": "O0Df14ONop7g",
        "outputId": "6c26e5dc-1fd9-4e0f-b30c-a6428337edec"
      },
      "execution_count": null,
      "outputs": [
        {
          "output_type": "stream",
          "name": "stdout",
          "text": [
            "[[2, -3], [12, 4]]\n",
            "Passou no primeiro teste! :-)\n"
          ]
        }
      ]
    },
    {
      "cell_type": "code",
      "source": [
        "a = [ [1, 2, -1], [0, 3, 2] ]\n",
        "b = [ [1, -1], [2, 0], [3, 2] ]\n",
        "c = multiplica_matriz(a,b)\n",
        "resultado = [ [2, -3], [12, 4] ]\n",
        "print(c)\n",
        "if c == resultado:\n",
        "    print(\"Passou no primeiro teste! :-)\")\n",
        "else:\n",
        "    print(\"Nao passou no primeiro teste! :-(\")"
      ],
      "metadata": {
        "colab": {
          "base_uri": "https://localhost:8080/"
        },
        "id": "OfcBPK6BBTDm",
        "outputId": "733113b3-aa7d-4cbe-c59e-f1ab0dd98cba"
      },
      "execution_count": null,
      "outputs": [
        {
          "output_type": "stream",
          "name": "stdout",
          "text": [
            "[[2, -3], [12, 4]]\n",
            "Passou no primeiro teste! :-)\n"
          ]
        }
      ]
    },
    {
      "cell_type": "code",
      "source": [
        "def le_matriz():\n",
        "  linha = int(input('Digite o numero de linhas da matriz: '))\n",
        "  coluna = int(input('Digite o numero de colunas da matriz: '))\n",
        "  matriz = cria_matriz(linha,coluna)\n",
        "  return matriz"
      ],
      "metadata": {
        "id": "AvcNjSuvGa4S"
      },
      "execution_count": null,
      "outputs": []
    },
    {
      "cell_type": "code",
      "source": [
        "def main():\n",
        "  m1 = le_matriz()\n",
        "  m2 = le_matriz()\n",
        "  c =multiplica_matriz(m1,m2)\n",
        "  imprima_matriz(c)\n",
        "  '''\n",
        "  Escreva um programa que leia duas matrizes, a matriz A de dimensão m x n e B\n",
        "  de dimensão n x p e imprime a matriz C de dimensão m x p que é\n",
        "   o produto de A por B.\n",
        "  '''\n",
        "\n",
        "main()"
      ],
      "metadata": {
        "colab": {
          "base_uri": "https://localhost:8080/"
        },
        "id": "gCjhRRVq9Sv9",
        "outputId": "8a7d2672-7bc6-4b1d-af38-6ad0ef7110e5"
      },
      "execution_count": null,
      "outputs": [
        {
          "output_type": "stream",
          "name": "stdout",
          "text": [
            "Digite o numero de linhas da matriz: 1\n",
            "Digite o numero de colunas da matriz: 2\n",
            "Digite o elemento [0][0]: 3\n",
            "Digite o elemento [0][1]: 4\n",
            "Digite o numero de linhas da matriz: 2\n",
            "Digite o numero de colunas da matriz: 3\n",
            "Digite o elemento [0][0]: 2\n",
            "Digite o elemento [0][1]: 2\n",
            "Digite o elemento [0][2]: 2\n",
            "Digite o elemento [1][0]: 2\n",
            "Digite o elemento [1][1]: 2\n",
            "Digite o elemento [1][2]: 2\n",
            "14 14 14\n"
          ]
        }
      ]
    },
    {
      "cell_type": "markdown",
      "source": [
        "Nesse exercício, vamos continuar a explorar a multiplicação de matrizes, mas dessa vez explorando o coneito de produto escalar de duas listas, que correspondem a uma linha e uma coluna das matrizes multiplicadas."
      ],
      "metadata": {
        "id": "GPLg1yywOgqm"
      }
    },
    {
      "cell_type": "markdown",
      "source": [
        "Escreva uma função que recebe um inteiro lin e uma matriz real A e outro inteiro col e uma matriz real B, e calcula a soma do produto entre os elementos da linha lin de A e com os respectivos elementos da coluna col de B. Você deve considerar que o número de colunas de A é o mesmo número de linhas de B."
      ],
      "metadata": {
        "id": "9Nc4UeJzOl_h"
      }
    },
    {
      "cell_type": "code",
      "source": [
        "def pegando_linha(matriz, linha):\n",
        "  return [i for i in matriz[linha]]\n",
        "\n",
        "def pegando_coluna(matriz, coluna):\n",
        "  return [i[coluna] for i in matriz]\n",
        "\n",
        "\n",
        "def produto_lincol(lin, a_mat, col, b_mat):\n",
        "  matRes = []\n",
        "  for i in range(len(a_mat)):\n",
        "    if i == lin:\n",
        "      matRes.append([])\n",
        "      for j in range(len(b_mat[0])):\n",
        "        if j == col:\n",
        "          listMult = [x*y for x,y in zip(pegando_linha(a_mat, i),\n",
        "                                         pegando_coluna(b_mat,0))]\n",
        "  return listMult\n",
        "\n",
        "'''(int, matriz, int, matriz) -> float\n",
        "\n",
        "    Recebe duas matriz a_mat e b_mat e dois inteiros lin e col\n",
        "    e calcula a soma o produto entre a linha lin de a_mat com\n",
        "    a coluna col de b_mat\n",
        "\n",
        "    Pre-condicao: a funcao supoe que o numero\n",
        "       de colunas de a_mat e igual ao numero de linhas\n",
        "       de b_mat\n",
        "    '''\n"
      ],
      "metadata": {
        "colab": {
          "base_uri": "https://localhost:8080/",
          "height": 91
        },
        "id": "BDApivoODYtG",
        "outputId": "a1b2cb9e-f115-466c-cebd-ec5aab7b449b"
      },
      "execution_count": null,
      "outputs": [
        {
          "output_type": "execute_result",
          "data": {
            "text/plain": [
              "'(int, matriz, int, matriz) -> float\\n\\n    Recebe duas matriz a_mat e b_mat e dois inteiros lin e col\\n    e calcula a soma o produto entre a linha lin de a_mat com\\n    a coluna col de b_mat\\n\\n    Pre-condicao: a funcao supoe que o numero\\n       de colunas de a_mat e igual ao numero de linhas\\n       de b_mat\\n    '"
            ],
            "application/vnd.google.colaboratory.intrinsic+json": {
              "type": "string"
            }
          },
          "metadata": {},
          "execution_count": 32
        }
      ]
    },
    {
      "cell_type": "code",
      "source": [
        "A = [ [1, 2, 1],\n",
        "      [2, 2, 2],\n",
        "      [1, 3, 2]]\n",
        "B = [ [1, 1],\n",
        "      [2, 0],\n",
        "      [0, 1] ]"
      ],
      "metadata": {
        "id": "0-NiYY-PPrGp"
      },
      "execution_count": null,
      "outputs": []
    },
    {
      "cell_type": "code",
      "source": [
        "def pro(linha,a_mat,coluna, b_mat):\n",
        "  a = pegando_linha(a_mat,linha)\n",
        "  b = pegando_coluna(b_mat, coluna)\n",
        "  return a, b\n"
      ],
      "metadata": {
        "id": "mILLrvvePrzt"
      },
      "execution_count": null,
      "outputs": []
    },
    {
      "cell_type": "code",
      "source": [
        "pro(1,A,0,B)"
      ],
      "metadata": {
        "colab": {
          "base_uri": "https://localhost:8080/"
        },
        "id": "ov2lsl12VKN8",
        "outputId": "a1effd52-13b7-49bb-c5fe-460d6748044b"
      },
      "execution_count": null,
      "outputs": [
        {
          "output_type": "execute_result",
          "data": {
            "text/plain": [
              "([2, 2, 2], [1, 2, 0])"
            ]
          },
          "metadata": {},
          "execution_count": 35
        }
      ]
    },
    {
      "cell_type": "code",
      "source": [
        "produto_lincol(1,A,0,B)"
      ],
      "metadata": {
        "colab": {
          "base_uri": "https://localhost:8080/"
        },
        "id": "KxiOnLTBShOL",
        "outputId": "4c692e50-be23-4f22-ea0f-add606e38cc6"
      },
      "execution_count": null,
      "outputs": [
        {
          "output_type": "execute_result",
          "data": {
            "text/plain": [
              "[2, 4, 0]"
            ]
          },
          "metadata": {},
          "execution_count": 36
        }
      ]
    },
    {
      "cell_type": "code",
      "source": [
        "def main():\n",
        "    m1 = le_matriz()\n",
        "    m2 = le_matriz()\n",
        "    c =multiplica_matriz(m1,m2)\n",
        "    imprima_matriz(c)\n",
        "\n",
        "main()"
      ],
      "metadata": {
        "colab": {
          "base_uri": "https://localhost:8080/"
        },
        "id": "pXiifSkBV2ZK",
        "outputId": "e3a25b79-cd0f-4fd8-bbdf-1b96688fd2db"
      },
      "execution_count": null,
      "outputs": [
        {
          "output_type": "stream",
          "name": "stdout",
          "text": [
            "Digite o numero de linhas da matriz: 1\n",
            "Digite o numero de colunas da matriz: 2\n",
            "Digite o elemento [0][0]: 3\n",
            "Digite o elemento [0][1]: 3\n",
            "Digite o numero de linhas da matriz: 2\n",
            "Digite o numero de colunas da matriz: 3\n",
            "Digite o elemento [0][0]: 5\n",
            "Digite o elemento [0][1]: 5\n",
            "Digite o elemento [0][2]: 5\n",
            "Digite o elemento [1][0]: 5\n",
            "Digite o elemento [1][1]: 5\n",
            "Digite o elemento [1][2]: 5\n",
            "30 30 30\n"
          ]
        }
      ]
    },
    {
      "cell_type": "markdown",
      "source": [
        "#PARTE A\n",
        "\n",
        "Escreva uma função MAX que recebe como entrada uma matriz inteira A e devolve três inteiros: k, lin e col. O inteiro k é um maior elemento de A e é igual a A[lin,col]."
      ],
      "metadata": {
        "id": "Ujuc5EBBbYqE"
      }
    },
    {
      "cell_type": "code",
      "source": [
        "def acha_max(A):\n",
        "  maximo = A[0][0]\n",
        "  linha = 0\n",
        "  coluna = 0\n",
        "  for i in range(len(A)):\n",
        "    for j in range(len(A[0])):\n",
        "      if A[i][j] > maximo:\n",
        "        maximo = A[i][j]\n",
        "        linha = i\n",
        "        coluna = j\n",
        "\n",
        "  return maximo, linha, coluna\n",
        "\n",
        "'''(matriz) -> int, int, int\n",
        "\n",
        "    Recebe uma matriz A e devolve 3 inteiros:\n",
        "    k (um maior valor), e sua posicao lin, col.\n",
        "    '''\n",
        "\n",
        "\n",
        "# teste\n",
        "A = [ [3, 7, 1], [1, 2, 8], [5, 3, 4]]\n",
        "acha_max(A)"
      ],
      "metadata": {
        "colab": {
          "base_uri": "https://localhost:8080/"
        },
        "id": "YS2R_-FHafVs",
        "outputId": "dc159ee4-b0bd-408e-b401-c5c39bf83589"
      },
      "execution_count": null,
      "outputs": [
        {
          "output_type": "execute_result",
          "data": {
            "text/plain": [
              "(8, 1, 2)"
            ]
          },
          "metadata": {},
          "execution_count": 52
        }
      ]
    },
    {
      "cell_type": "code",
      "source": [
        "a= acha_max(A)\n",
        "a = list(a)\n",
        "print(type(a))\n",
        "print(a[0])\n"
      ],
      "metadata": {
        "colab": {
          "base_uri": "https://localhost:8080/"
        },
        "id": "6kf7-RSbh3_M",
        "outputId": "8e09f3b1-280d-4565-c9eb-55ce8d69d5f1"
      },
      "execution_count": null,
      "outputs": [
        {
          "output_type": "stream",
          "name": "stdout",
          "text": [
            "<class 'list'>\n",
            "8\n"
          ]
        }
      ]
    },
    {
      "cell_type": "markdown",
      "source": [
        "#PARTE B\n",
        "\n",
        "Escreva um programa que, dado dois inteiros nl e nc e uma matriz quadrada de dimensão nl x nc, cujos elementos são todos inteiros, imprime uma tabela onde os elementos são listados em ordem decrescente, acompanhados da indicação de linha e coluna a que pertencem. Havendo repetições de elementos na matriz, a ordem é irrelevante. Utilize obrigatoriamente o procedimento da parte A, mesmo que você não o tenha feito"
      ],
      "metadata": {
        "id": "ZSnuMRx6efgl"
      }
    },
    {
      "cell_type": "code",
      "source": [
        "def main():\n",
        "  matriz = le_matriz()\n",
        "\n",
        "\n",
        "\n",
        "main()"
      ],
      "metadata": {
        "id": "MfbDcS2xfGfu"
      },
      "execution_count": null,
      "outputs": []
    },
    {
      "cell_type": "code",
      "source": [
        "def acha_max(A):\n",
        "  maximo = A[0][0]\n",
        "  linha = 0\n",
        "  coluna = 0\n",
        "  for i in range(len(A)):\n",
        "    for j in range(len(A[0])):\n",
        "      if A[i][j] > maximo:\n",
        "        maximo = A[i][j]\n",
        "        linha = i\n",
        "        coluna = j\n",
        "\n",
        "  return maximo, linha, coluna"
      ],
      "metadata": {
        "id": "2n4OfRzPcQsn"
      },
      "execution_count": null,
      "outputs": []
    },
    {
      "cell_type": "code",
      "source": [
        "base_max = acha_max(A)\n",
        "print(base_max)"
      ],
      "metadata": {
        "colab": {
          "base_uri": "https://localhost:8080/"
        },
        "id": "fkeERncUngcE",
        "outputId": "cffa6a4b-081e-4b1f-d231-8d02b68df96e"
      },
      "execution_count": null,
      "outputs": [
        {
          "output_type": "stream",
          "name": "stdout",
          "text": [
            "(8, 1, 2)\n"
          ]
        }
      ]
    },
    {
      "cell_type": "code",
      "source": [
        "print(A)"
      ],
      "metadata": {
        "colab": {
          "base_uri": "https://localhost:8080/"
        },
        "id": "1b3KlbVAvqFG",
        "outputId": "d7368095-c04d-4936-c69d-b4276a0708c8"
      },
      "execution_count": null,
      "outputs": [
        {
          "output_type": "stream",
          "name": "stdout",
          "text": [
            "[[3, 7, 1], [1, 2, 8], [5, 3, 4]]\n"
          ]
        }
      ]
    },
    {
      "cell_type": "code",
      "source": [
        "def main():\n",
        "  A = le_matriz()\n",
        "  inicio = acha_max(A)\n",
        "  iniciado = inicio[0]\n",
        "  passo = inicio[0]\n",
        "  while passo > -1 :\n",
        "    for i in range(len(A)):\n",
        "      for j in range(len(A[0])):\n",
        "        if A[i][j] == iniciado:\n",
        "          print(iniciado,'\\t', i,'\\t', j)\n",
        "    iniciado -= 1\n",
        "    passo -= 1\n",
        "\n",
        "\n",
        "\n",
        "main()"
      ],
      "metadata": {
        "colab": {
          "base_uri": "https://localhost:8080/"
        },
        "id": "G7DdmYw9skt6",
        "outputId": "e3fe67f9-c511-407b-de8f-bbfc554258ca"
      },
      "execution_count": null,
      "outputs": [
        {
          "output_type": "stream",
          "name": "stdout",
          "text": [
            "Digite o numero de linhas da matriz: 2\n",
            "Digite o numero de colunas da matriz: 2\n",
            "Digite o elemento [0][0]: 15\n",
            "Digite o elemento [0][1]: 18\n",
            "Digite o elemento [1][0]: 20\n",
            "Digite o elemento [1][1]: 2\n",
            "20 \t 1 \t 0\n",
            "18 \t 0 \t 1\n",
            "15 \t 0 \t 0\n",
            "2 \t 1 \t 1\n"
          ]
        }
      ]
    },
    {
      "cell_type": "code",
      "source": [
        "A = [[3, 7, -1,2,3], [1, 2, 8,5,4], [-1,5, 3, 4,-1]]\n",
        "print(A)"
      ],
      "metadata": {
        "colab": {
          "base_uri": "https://localhost:8080/"
        },
        "id": "whcdPXpaylbn",
        "outputId": "ab61a773-072e-4476-af37-a4653e910d0c"
      },
      "execution_count": null,
      "outputs": [
        {
          "output_type": "stream",
          "name": "stdout",
          "text": [
            "[[3, 7, -1, 2, 3], [1, 2, 8, 5, 4], [-1, 5, 3, 4, -1]]\n"
          ]
        }
      ]
    },
    {
      "cell_type": "code",
      "source": [
        "bomba = -1\n",
        "if A[2][3] != bomba:\n",
        "  for i in range(A[2][3],:-1):\n",
        "    print(A[i])"
      ],
      "metadata": {
        "id": "QajyrFTK75yq"
      },
      "execution_count": null,
      "outputs": []
    },
    {
      "cell_type": "markdown",
      "source": [
        "Escreva uma função que recebe como parâmetros uma matriz inteira e uma posição (lin, col) da matriz, e conta quantas posições ao redor da posição (lin, col) contém o valor -1 (valor adotado para representar uma mina). Por posições ao redor, considere as quatro posições vizinhas à direita, à esquerda, em cima e em baixo, isto é, (lin,col+1), (lin,col-1), (lin-1,col) e (lin+1,col), e também as quatro diagonais (lin+1,col+1), (lin-1,col-1), (lin-1,col+1) e (lin+1,col-1)"
      ],
      "metadata": {
        "id": "bj8cGG5M-G1j"
      }
    },
    {
      "cell_type": "markdown",
      "source": [
        "![image.png](data:image/png;base64,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)"
      ],
      "metadata": {
        "id": "_CVdCHRZ-Mlb"
      }
    },
    {
      "cell_type": "markdown",
      "source": [
        "#Note o padrão, o numero que ficam no centro tem a linha e a coluna neutra(sem sinal de + nem -).\n",
        "\n",
        "As posições que ficam do lado esquerdo tem as colunas adicionadas com (-1) e as posição que ficam do lado direito tem as colunas adicionais com (+1).\n",
        "\n",
        "As posições que ficam na parte acima da linha central tem as linhas adicionadas com (-1) e as posições que ficam abaixo da linha central tem as linhas adicionadas com (+1)."
      ],
      "metadata": {
        "id": "_pL2CY1E-_4U"
      }
    },
    {
      "cell_type": "code",
      "source": [
        "\n",
        "    '''\n",
        "    Recebe uma matriz inteira A e uma posicao (lin, col), e\n",
        "    retorna o numero de bombas ao redor de (lin, col)\n",
        " '''\n"
      ],
      "metadata": {
        "colab": {
          "base_uri": "https://localhost:8080/",
          "height": 54
        },
        "id": "ycsLkIGLK_6l",
        "outputId": "e9960a8b-fe3f-4ad2-cb52-71bec7c3e3d3"
      },
      "execution_count": null,
      "outputs": [
        {
          "output_type": "execute_result",
          "data": {
            "text/plain": [
              "'\\nRecebe uma matriz inteira A e uma posicao (lin, col), e\\nretorna o numero de bombas ao redor de (lin, col)\\n '"
            ],
            "application/vnd.google.colaboratory.intrinsic+json": {
              "type": "string"
            }
          },
          "metadata": {},
          "execution_count": 132
        }
      ]
    },
    {
      "cell_type": "code",
      "source": [
        "bomba = -1\n",
        "\n",
        "def conta_bomba(campo, lin, col):\n",
        "  m = len(campo)\n",
        "  n = len(campo[0])\n",
        "  minas = 0\n",
        "  for i in range(lin-1, lin+2):\n",
        "    for j in range(col-1,col+2):\n",
        "      if i >= 0 and i < m and j >= 0 and j < n:\n",
        "        if i != lin or j != col:\n",
        "          if campo[i][j] == bomba:\n",
        "            minas += 1\n",
        "  return minas\n"
      ],
      "metadata": {
        "id": "-rExTqpX8Yxk"
      },
      "execution_count": null,
      "outputs": []
    },
    {
      "cell_type": "code",
      "source": [
        "A[2][3]\n",
        "A[2][2]"
      ],
      "metadata": {
        "id": "LS-1uAifE8YI"
      },
      "execution_count": null,
      "outputs": []
    },
    {
      "cell_type": "code",
      "source": [],
      "metadata": {
        "id": "VBK0Iqw6JDMx"
      },
      "execution_count": null,
      "outputs": []
    },
    {
      "cell_type": "code",
      "source": [
        "MINA  = -1\n",
        "\n",
        "def contaMinas(campo, lin, col):\n",
        "    Ldj = [-1,  0,  1, 1, 1, 0, -1, -1]\n",
        "    Ldi = [-1, -1, -1, 0, 1, 1,  1,  0]\n",
        "    m = len(campo)\n",
        "    n = len(campo[0])\n",
        "    minas = 0\n",
        "    for k in range(len(Ldj)):\n",
        "        i = lin + Ldi[k]\n",
        "        j = col + Ldj[k]\n",
        "        if i >= 0 and i < m and j >= 0 and j < n:\n",
        "            if campo[i][j] == MINA:\n",
        "                    minas += 1\n",
        "    return minas"
      ],
      "metadata": {
        "id": "i94MQ6X-Kzby"
      },
      "execution_count": null,
      "outputs": []
    },
    {
      "cell_type": "code",
      "source": [
        "bomba = -1\n",
        "livre = 0\n",
        "def main():\n",
        "    matriz = le_matriz()\n",
        "    lin = int(input('digite a linha que quer analisar: '))\n",
        "    col = int(input('digite a coluna que quer analisar: '))\n",
        "    risco = contaMinas(matriz,lin, col)\n",
        "\n",
        "    return risco\n",
        "\n",
        "main()"
      ],
      "metadata": {
        "colab": {
          "base_uri": "https://localhost:8080/"
        },
        "id": "kmE1YBawMMvI",
        "outputId": "407aac60-9589-4e8c-de22-8cd17fb64452"
      },
      "execution_count": null,
      "outputs": [
        {
          "name": "stdout",
          "output_type": "stream",
          "text": [
            "Digite o numero de linhas da matriz: 3\n",
            "Digite o numero de colunas da matriz: 3\n",
            "Digite o elemento [0][0]: -1\n",
            "Digite o elemento [0][1]: -1\n",
            "Digite o elemento [0][2]: 0\n",
            "Digite o elemento [1][0]: 0\n",
            "Digite o elemento [1][1]: 0\n",
            "Digite o elemento [1][2]: -1\n",
            "Digite o elemento [2][0]: 0\n",
            "Digite o elemento [2][1]: 0\n",
            "Digite o elemento [2][2]: 0\n",
            "digite a linha que quer analisar: 2\n",
            "digite a coluna que quer analisar: 0\n"
          ]
        },
        {
          "output_type": "execute_result",
          "data": {
            "text/plain": [
              "0"
            ]
          },
          "metadata": {},
          "execution_count": 136
        }
      ]
    },
    {
      "cell_type": "code",
      "source": [
        "main()"
      ],
      "metadata": {
        "colab": {
          "base_uri": "https://localhost:8080/"
        },
        "id": "efgaOUMQOCPj",
        "outputId": "9a89daa2-88b8-4ccf-8224-c8ecccd99903"
      },
      "execution_count": null,
      "outputs": [
        {
          "name": "stdout",
          "output_type": "stream",
          "text": [
            "Digite o numero de linhas da matriz: 3\n",
            "Digite o numero de colunas da matriz: 3\n",
            "Digite o elemento [0][0]: -1\n",
            "Digite o elemento [0][1]: -1\n",
            "Digite o elemento [0][2]: 0\n",
            "Digite o elemento [1][0]: 0\n",
            "Digite o elemento [1][1]: 0\n",
            "Digite o elemento [1][2]: -1\n",
            "Digite o elemento [2][0]: 0\n",
            "Digite o elemento [2][1]: 0\n",
            "Digite o elemento [2][2]: 0\n",
            "digite a linha que quer analisar: 0\n",
            "digite a coluna que quer analisar: 2\n"
          ]
        },
        {
          "output_type": "execute_result",
          "data": {
            "text/plain": [
              "2"
            ]
          },
          "metadata": {},
          "execution_count": 137
        }
      ]
    },
    {
      "cell_type": "code",
      "source": [],
      "metadata": {
        "id": "0KSjYZQFO1UM"
      },
      "execution_count": null,
      "outputs": []
    }
  ]
}